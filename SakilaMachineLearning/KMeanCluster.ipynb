{
 "cells": [
  {
   "cell_type": "code",
   "execution_count": 31,
   "metadata": {},
   "outputs": [],
   "source": [
    "import matplotlib.pyplot as plt\n",
    "import seaborn as sns\n",
    "import plotly.express as px\n",
    "from sklearn.cluster import KMeans\n",
    "from sklearn.preprocessing import StandardScaler\n",
    "from sklearn.metrics import silhouette_score\n",
    "import numpy as np\n",
    "import pandas as pd\n",
    "\n",
    "from ConnectMySQL import Connector"
   ]
  },
  {
   "cell_type": "code",
   "execution_count": 32,
   "metadata": {},
   "outputs": [
    {
     "name": "stdout",
     "output_type": "stream",
     "text": [
      "Connected to MySQL\n"
     ]
    },
    {
     "data": {
      "text/plain": [
       "<mysql.connector.connection_cext.CMySQLConnection at 0x1fe4c7ea5d0>"
      ]
     },
     "execution_count": 32,
     "metadata": {},
     "output_type": "execute_result"
    }
   ],
   "source": [
    "conn = Connector(\n",
    "        server   = 'localhost',\n",
    "        port     = 3306,\n",
    "        database = 'sakila',\n",
    "        username = 'root',\n",
    "        password = \"nguyin\"\n",
    ")\n",
    "conn.connect()"
   ]
  },
  {
   "cell_type": "code",
   "execution_count": 33,
   "metadata": {},
   "outputs": [
    {
     "name": "stderr",
     "output_type": "stream",
     "text": [
      "e:\\Project\\ML-in-Business-Analytics\\SakilaMachineLearning\\ConnectMySQL.py:34: UserWarning:\n",
      "\n",
      "pandas only supports SQLAlchemy connectable (engine/connection) or database string URI or sqlite3 DBAPI2 connection. Other DBAPI2 objects are not tested. Please consider using SQLAlchemy.\n",
      "\n"
     ]
    }
   ],
   "source": [
    "customer = conn.GetTableData('customer')\n",
    "film = conn.GetTableData('film')\n",
    "inventory = conn.GetTableData('inventory')\n",
    "rental = conn.GetTableData('rental')"
   ]
  },
  {
   "cell_type": "code",
   "execution_count": 34,
   "metadata": {
    "vscode": {
     "languageId": "ruby"
    }
   },
   "outputs": [
    {
     "name": "stdout",
     "output_type": "stream",
     "text": [
      "     CustomerId  FirstName   LastName  TotalPayment  RentalFrequency  \\\n",
      "0             1       MARY      SMITH         93.68               32   \n",
      "1             2   PATRICIA    JOHNSON         82.73               27   \n",
      "2             3      LINDA   WILLIAMS         85.74               26   \n",
      "3             4    BARBARA      JONES         63.78               22   \n",
      "4             5  ELIZABETH      BROWN         99.62               38   \n",
      "..          ...        ...        ...           ...              ...   \n",
      "594         595   TERRENCE  GUNDERSON         85.70               30   \n",
      "595         596    ENRIQUE   FORSYTHE         77.72               28   \n",
      "596         597    FREDDIE     DUGGAN         78.75               25   \n",
      "597         598       WADE   DELVALLE         59.78               22   \n",
      "598         599     AUSTIN    CINTRON         60.81               19   \n",
      "\n",
      "    FavoriteRating  AverageFilmLength  \n",
      "0            NC-17         122.375000  \n",
      "1            PG-13         113.740741  \n",
      "2                R         114.269231  \n",
      "3                G         117.272727  \n",
      "4               PG         119.236842  \n",
      "..             ...                ...  \n",
      "594          PG-13         123.133333  \n",
      "595          NC-17         109.000000  \n",
      "596              R         107.560000  \n",
      "597              G         127.454545  \n",
      "598             PG         103.210526  \n",
      "\n",
      "[599 rows x 7 columns]\n"
     ]
    }
   ],
   "source": [
    "# Merge the necessary tables to get the required information\n",
    "customer_rental = pd.merge(customer, rental, on='customer_id', suffixes=('_customer', '_rental'))\n",
    "customer_rental_inventory = pd.merge(customer_rental, inventory, on='inventory_id', suffixes=('_rental', '_inventory'))\n",
    "customer_rental_inventory_film = pd.merge(customer_rental_inventory, film, on='film_id', suffixes=('_inventory', '_film'))\n",
    "\n",
    "# Calculate total payment\n",
    "total_payment = customer_rental_inventory_film.groupby('customer_id')['rental_rate'].sum().reset_index()\n",
    "total_payment.columns = ['customer_id', 'TotalPayment']\n",
    "\n",
    "# Calculate rental frequency\n",
    "rental_frequency = customer_rental_inventory_film.groupby('customer_id')['rental_id'].count().reset_index()\n",
    "rental_frequency.columns = ['customer_id', 'RentalFrequency']\n",
    "\n",
    "# Calculate average film length\n",
    "average_film_length = customer_rental_inventory_film.groupby('customer_id')['length'].mean().reset_index()\n",
    "average_film_length.columns = ['customer_id', 'AverageFilmLength']\n",
    "\n",
    "# Calculate favorite rating\n",
    "favorite_rating = customer_rental_inventory_film.groupby(['customer_id', 'rating']).size().reset_index(name='count')\n",
    "favorite_rating = favorite_rating.loc[favorite_rating.groupby('customer_id')['count'].idxmax()]\n",
    "favorite_rating = favorite_rating[['customer_id', 'rating']]\n",
    "favorite_rating.columns = ['customer_id', 'FavoriteRating']\n",
    "\n",
    "# Merge all the calculated data\n",
    "df = pd.merge(customer[['customer_id', 'first_name', 'last_name']], total_payment, left_on = \"customer_id\", right_on = \"customer_id\")\n",
    "df = pd.merge(df, rental_frequency, on='customer_id')\n",
    "df = pd.merge(df, favorite_rating, on='customer_id')\n",
    "df = pd.merge(df, average_film_length, on='customer_id')\n",
    "\n",
    "# Rename columns\n",
    "df.columns = ['CustomerId', 'FirstName', 'LastName', 'TotalPayment', 'RentalFrequency', 'FavoriteRating', 'AverageFilmLength']\n",
    "\n",
    "print(df)"
   ]
  },
  {
   "cell_type": "code",
   "execution_count": 35,
   "metadata": {},
   "outputs": [
    {
     "name": "stdout",
     "output_type": "stream",
     "text": [
      "     CustomerId FirstName   LastName  TotalPayment  RentalFrequency  \\\n",
      "3             4   BARBARA      JONES         63.78               22   \n",
      "8             9  MARGARET      MOORE         68.77               23   \n",
      "9            10   DOROTHY     TAYLOR         64.75               25   \n",
      "11           12     NANCY     THOMAS         67.72               28   \n",
      "16           17     DONNA   THOMPSON         68.79               21   \n",
      "..          ...       ...        ...           ...              ...   \n",
      "577         578   WILLARD    LUMPKIN         69.78               22   \n",
      "579         580      ROSS       GREY         68.73               27   \n",
      "583         584  SALVADOR       TEEL         93.70               30   \n",
      "592         593      RENE  MCALISTER         71.74               26   \n",
      "597         598      WADE   DELVALLE         59.78               22   \n",
      "\n",
      "    FavoriteRating  AverageFilmLength  FavoriteRatingNumber  \n",
      "3                G         117.272727                     1  \n",
      "8                G         116.521739                     1  \n",
      "9                G         112.520000                     1  \n",
      "11               G         108.857143                     1  \n",
      "16               G         129.047619                     1  \n",
      "..             ...                ...                   ...  \n",
      "577              G         103.863636                     1  \n",
      "579              G         120.814815                     1  \n",
      "583              G         109.866667                     1  \n",
      "592              G         101.653846                     1  \n",
      "597              G         127.454545                     1  \n",
      "\n",
      "[99 rows x 8 columns]\n",
      "     CustomerId  FirstName   LastName  TotalPayment  RentalFrequency  \\\n",
      "4             5  ELIZABETH      BROWN         99.62               38   \n",
      "18           19       RUTH   MARTINEZ         81.76               24   \n",
      "19           20     SHARON   ROBINSON         85.70               30   \n",
      "22           23      SARAH      LEWIS         83.70               30   \n",
      "25           26    JESSICA       HALL         99.66               34   \n",
      "..          ...        ...        ...           ...              ...   \n",
      "559         560     JORDAN  ARCHULETA         91.70               30   \n",
      "562         563        KEN    PREWITT         70.71               29   \n",
      "589         590       SETH     HANNON         82.75               25   \n",
      "591         592   TERRANCE      ROUSH         74.71               29   \n",
      "598         599     AUSTIN    CINTRON         60.81               19   \n",
      "\n",
      "    FavoriteRating  AverageFilmLength  FavoriteRatingNumber  \n",
      "4               PG         119.236842                     2  \n",
      "18              PG         111.208333                     2  \n",
      "19              PG         117.400000                     2  \n",
      "22              PG         122.633333                     2  \n",
      "25              PG         122.058824                     2  \n",
      "..             ...                ...                   ...  \n",
      "559             PG         105.300000                     2  \n",
      "562             PG         112.482759                     2  \n",
      "589             PG         115.080000                     2  \n",
      "591             PG         106.896552                     2  \n",
      "598             PG         103.210526                     2  \n",
      "\n",
      "[122 rows x 8 columns]\n",
      "     CustomerId FirstName   LastName  TotalPayment  RentalFrequency  \\\n",
      "1             2  PATRICIA    JOHNSON         82.73               27   \n",
      "5             6  JENNIFER      DAVIS         55.72               28   \n",
      "6             7     MARIA     MILLER         98.67               33   \n",
      "14           15     HELEN     HARRIS        103.68               32   \n",
      "15           16    SANDRA     MARTIN         89.72               28   \n",
      "..          ...       ...        ...           ...              ...   \n",
      "586         587    SERGIO  STANFIELD         81.74               26   \n",
      "587         588    MARION     OCAMPO         94.71               29   \n",
      "588         589     TRACY   HERRMANN         89.72               28   \n",
      "593         594   EDUARDO      HIATT         86.73               27   \n",
      "594         595  TERRENCE  GUNDERSON         85.70               30   \n",
      "\n",
      "    FavoriteRating  AverageFilmLength  FavoriteRatingNumber  \n",
      "1            PG-13         113.740741                     3  \n",
      "5            PG-13         106.178571                     3  \n",
      "6            PG-13         105.878788                     3  \n",
      "14           PG-13         119.312500                     3  \n",
      "15           PG-13         120.000000                     3  \n",
      "..             ...                ...                   ...  \n",
      "586          PG-13         109.961538                     3  \n",
      "587          PG-13         121.103448                     3  \n",
      "588          PG-13         123.142857                     3  \n",
      "593          PG-13         111.518519                     3  \n",
      "594          PG-13         123.133333                     3  \n",
      "\n",
      "[145 rows x 8 columns]\n",
      "     CustomerId FirstName   LastName  TotalPayment  RentalFrequency  \\\n",
      "2             3     LINDA   WILLIAMS         85.74               26   \n",
      "10           11      LISA   ANDERSON         67.76               24   \n",
      "13           14     BETTY      WHITE         79.72               28   \n",
      "21           22     LAURA  RODRIGUEZ         79.78               22   \n",
      "33           34   REBECCA      SCOTT         71.76               24   \n",
      "..          ...       ...        ...           ...              ...   \n",
      "572         573     BYRON        BOX         76.71               29   \n",
      "575         576    MORRIS   MCCARTER        107.66               34   \n",
      "582         583  MARSHALL      THORN         74.77               23   \n",
      "590         591      KENT  ARSENAULT         92.73               27   \n",
      "596         597   FREDDIE     DUGGAN         78.75               25   \n",
      "\n",
      "    FavoriteRating  AverageFilmLength  FavoriteRatingNumber  \n",
      "2                R         114.269231                     4  \n",
      "10               R         127.041667                     4  \n",
      "13               R         121.857143                     4  \n",
      "21               R         108.363636                     4  \n",
      "33               R         120.208333                     4  \n",
      "..             ...                ...                   ...  \n",
      "572              R         111.724138                     4  \n",
      "575              R         112.617647                     4  \n",
      "582              R         113.739130                     4  \n",
      "590              R         122.407407                     4  \n",
      "596              R         107.560000                     4  \n",
      "\n",
      "[89 rows x 8 columns]\n",
      "     CustomerId FirstName  LastName  TotalPayment  RentalFrequency  \\\n",
      "0             1      MARY     SMITH         93.68               32   \n",
      "7             8     SUSAN    WILSON         69.76               24   \n",
      "12           13     KAREN   JACKSON         84.73               27   \n",
      "17           18     CAROL    GARCIA         73.78               22   \n",
      "20           21  MICHELLE     CLARK         96.65               35   \n",
      "..          ...       ...       ...           ...              ...   \n",
      "580         581    VIRGIL   WOFFORD         68.73               27   \n",
      "581         582      ANDY   VANHORN         72.75               25   \n",
      "584         585     PERRY  SWAFFORD         83.76               24   \n",
      "585         586      KIRK   STCLAIR         52.81               19   \n",
      "595         596   ENRIQUE  FORSYTHE         77.72               28   \n",
      "\n",
      "    FavoriteRating  AverageFilmLength  FavoriteRatingNumber  \n",
      "0            NC-17         122.375000                     5  \n",
      "7            NC-17         133.666667                     5  \n",
      "12           NC-17         114.925926                     5  \n",
      "17           NC-17         110.227273                     5  \n",
      "20           NC-17         118.771429                     5  \n",
      "..             ...                ...                   ...  \n",
      "580          NC-17         110.000000                     5  \n",
      "581          NC-17         107.000000                     5  \n",
      "584          NC-17         126.500000                     5  \n",
      "585          NC-17         118.842105                     5  \n",
      "595          NC-17         109.000000                     5  \n",
      "\n",
      "[144 rows x 8 columns]\n"
     ]
    }
   ],
   "source": [
    "# Create a mapping dictionary for favorite ratings\n",
    "rating_mapping = {\n",
    "    'G': 1,\n",
    "    'PG': 2,\n",
    "    'PG-13': 3,\n",
    "    'R': 4,\n",
    "    'NC-17': 5\n",
    "}\n",
    "\n",
    "# Map the favorite ratings to numbers\n",
    "df['FavoriteRatingNumber'] = df['FavoriteRating'].map(rating_mapping)\n",
    "\n",
    "# Create separate dataframes for each rating\n",
    "df_g = df[df['FavoriteRatingNumber'] == 1]\n",
    "df_pg = df[df['FavoriteRatingNumber'] == 2]\n",
    "df_pg13 = df[df['FavoriteRatingNumber'] == 3]\n",
    "df_r = df[df['FavoriteRatingNumber'] == 4]\n",
    "df_nc17 = df[df['FavoriteRatingNumber'] == 5]\n",
    "\n",
    "print(df_g)\n",
    "print(df_pg)\n",
    "print(df_pg13)\n",
    "print(df_r)\n",
    "print(df_nc17)"
   ]
  },
  {
   "cell_type": "code",
   "execution_count": 36,
   "metadata": {},
   "outputs": [],
   "source": [
    "# Chuẩn hóa dữ liệu\n",
    "scaler = StandardScaler()\n",
    "cluster_columns = ['TotalPayment', 'RentalFrequency', 'FavoriteRatingNumber', 'AverageFilmLength']\n",
    "X = scaler.fit_transform(df[cluster_columns])"
   ]
  },
  {
   "cell_type": "code",
   "execution_count": 37,
   "metadata": {},
   "outputs": [],
   "source": [
    "# Phương pháp Elbow và Silhouette để xác định số cụm tối ưu\n",
    "def find_optimal_clusters(X, max_k=10):\n",
    "    inertia = []\n",
    "    silhouette_scores = []\n",
    "    for k in range(2, max_k + 1):\n",
    "        kmeans = KMeans(n_clusters=k, init='k-means++', max_iter=500, random_state=42)\n",
    "        kmeans.fit(X)\n",
    "        inertia.append(kmeans.inertia_)\n",
    "        if k > 1:\n",
    "            score = silhouette_score(X, kmeans.labels_)\n",
    "            silhouette_scores.append(score)\n",
    "\n",
    "    # Vẽ biểu đồ Elbow\n",
    "    plt.figure(figsize=(15, 6))\n",
    "    plt.subplot(1, 2, 1)\n",
    "    plt.plot(range(2, max_k + 1), inertia, 'o-')\n",
    "    plt.xlabel('Number of Clusters')\n",
    "    plt.ylabel('Inertia')\n",
    "    plt.title('Elbow Method')\n",
    "\n",
    "    # Vẽ biểu đồ Silhouette\n",
    "    plt.subplot(1, 2, 2)\n",
    "    plt.plot(range(2, max_k + 1), silhouette_scores, 'o-')\n",
    "    plt.xlabel('Number of Clusters')\n",
    "    plt.ylabel('Silhouette Score')\n",
    "    plt.title('Silhouette Score')\n",
    "    plt.show()"
   ]
  },
  {
   "cell_type": "code",
   "execution_count": 38,
   "metadata": {},
   "outputs": [
    {
     "data": {
      "image/png": "[encoded data removed]",
      "text/plain": [
       "<Figure size 1500x600 with 2 Axes>"
      ]
     },
     "metadata": {},
     "output_type": "display_data"
    }
   ],
   "source": [
    "# Tìm số cụm tối ưu\n",
    "find_optimal_clusters(X)"
   ]
  },
  {
   "cell_type": "code",
   "execution_count": 39,
   "metadata": {},
   "outputs": [],
   "source": [
    "# Chọn số cụm\n",
    "cluster = 3\n",
    "kmeans = KMeans(n_clusters=cluster, init='k-means++', max_iter=500, random_state=42)\n",
    "y_kmeans = kmeans.fit_predict(X)\n",
    "centroids = scaler.inverse_transform(kmeans.cluster_centers_)  # Chuyển centroids về giá trị gốc\n",
    "df['cluster'] = y_kmeans"
   ]
  },
  {
   "cell_type": "code",
   "execution_count": 40,
   "metadata": {},
   "outputs": [
    {
     "data": {
      "image/png": "[encoded data removed]",
      "text/plain": [
       "<Figure size 1058.88x1000 with 20 Axes>"
      ]
     },
     "metadata": {},
     "output_type": "display_data"
    }
   ],
   "source": [
    "# --- Biểu đồ 1: Pair Plot ---\n",
    "def plot_pair_plot(df, columns, hue):\n",
    "    sns.pairplot(df, vars=columns, hue=hue, palette='Set1')\n",
    "    plt.suptitle('Pair Plot of Features by Cluster', y=1.02)\n",
    "    plt.show()\n",
    "\n",
    "\n",
    "plot_pair_plot(df, cluster_columns, 'cluster')"
   ]
  },
  {
   "cell_type": "code",
   "execution_count": 41,
   "metadata": {},
   "outputs": [
    {
     "data": {
      "image/png": "[encoded data removed]",
      "text/plain": [
       "<Figure size 1500x500 with 4 Axes>"
      ]
     },
     "metadata": {},
     "output_type": "display_data"
    }
   ],
   "source": [
    "# --- Biểu đồ 2: Box Plot ---\n",
    "def plot_box_plots(df, columns, hue):\n",
    "    plt.figure(figsize=(15, 5))\n",
    "    for i, col in enumerate(columns, 1):\n",
    "        plt.subplot(1, len(columns), i)\n",
    "        sns.boxplot(x='cluster', y=col, data=df, hue='cluster', palette='Set1', legend=False)\n",
    "        plt.title(f'Box Plot of {col} by Cluster')\n",
    "    plt.tight_layout()\n",
    "    plt.show()\n",
    "\n",
    "plot_box_plots(df, cluster_columns, 'cluster')"
   ]
  },
  {
   "cell_type": "code",
   "execution_count": 42,
   "metadata": {},
   "outputs": [
    {
     "data": {
      "image/png": "[encoded data removed]",
      "text/plain": [
       "<Figure size 1000x600 with 1 Axes>"
      ]
     },
     "metadata": {},
     "output_type": "display_data"
    }
   ],
   "source": [
    "# --- Biểu đồ 3: Scatter Plot với Centroids ---\n",
    "def plot_scatter_with_centroids(df, x_col, y_col, hue, centroids, colors):\n",
    "    plt.figure(figsize=(10, 6))\n",
    "    sns.scatterplot(data=df, x=x_col, y=y_col, hue=hue, palette=colors, s=100, alpha=0.6)\n",
    "    plt.scatter(centroids[:, 0], centroids[:, 1], s=300, c='black', marker='X', label='Centroids')\n",
    "    plt.title(f'Scatter Plot of {x_col} vs {y_col} by Cluster')\n",
    "    plt.xlabel(x_col)\n",
    "    plt.ylabel(y_col)\n",
    "    plt.legend()\n",
    "    plt.show()\n",
    "    \n",
    "# Chọn hai đặc trưng để vẽ scatter plot\n",
    "colors = sns.color_palette('Set1', n_colors=cluster)\n",
    "plot_scatter_with_centroids(df, 'TotalPayment', 'RentalFrequency', 'cluster', centroids[:, [0, 1]], colors)"
   ]
  },
  {
   "cell_type": "code",
   "execution_count": 43,
   "metadata": {},
   "outputs": [
    {
     "data": {
      "application/vnd.plotly.v1+json": {
       "config": {
        "plotlyServerURL": "https://plot.ly"
       },
       "data": [
        {
         "customdata": [
          [
           1,
           "MARY",
           "SMITH"
          ],
          [
           2,
           "PATRICIA",
           "JOHNSON"
          ],
          [
           3,
           "LINDA",
           "WILLIAMS"
          ],
          [
           4,
           "BARBARA",
           "JONES"
          ],
          [
           5,
           "ELIZABETH",
           "BROWN"
          ],
          [
           6,
           "JENNIFER",
           "DAVIS"
          ],
          [
           7,
           "MARIA",
           "MILLER"
          ],
          [
           8,
           "SUSAN",
           "WILSON"
          ],
          [
           9,
           "MARGARET",
           "MOORE"
          ],
          [
           10,
           "DOROTHY",
           "TAYLOR"
          ],
          [
           11,
           "LISA",
           "ANDERSON"
          ],
          [
           12,
           "NANCY",
           "THOMAS"
          ],
          [
           13,
           "KAREN",
           "JACKSON"
          ],
          [
           14,
           "BETTY",
           "WHITE"
          ],
          [
           15,
           "HELEN",
           "HARRIS"
          ],
          [
           16,
           "SANDRA",
           "MARTIN"
          ],
          [
           17,
           "DONNA",
           "THOMPSON"
          ],
          [
           18,
           "CAROL",
           "GARCIA"
          ],
          [
           19,
           "RUTH",
           "MARTINEZ"
          ],
          [
           20,
           "SHARON",
           "ROBINSON"
          ],
          [
           21,
           "MICHELLE",
           "CLARK"
          ],
          [
           22,
           "LAURA",
           "RODRIGUEZ"
          ],
          [
           23,
           "SARAH",
           "LEWIS"
          ],
          [
           24,
           "KIMBERLY",
           "LEE"
          ],
          [
           25,
           "DEBORAH",
           "WALKER"
          ],
          [
           26,
           "JESSICA",
           "HALL"
          ],
          [
           27,
           "SHIRLEY",
           "ALLEN"
          ],
          [
           28,
           "CYNTHIA",
           "YOUNG"
          ],
          [
           29,
           "ANGELA",
           "HERNANDEZ"
          ],
          [
           30,
           "MELISSA",
           "KING"
          ],
          [
           31,
           "BRENDA",
           "WRIGHT"
          ],
          [
           32,
           "AMY",
           "LOPEZ"
          ],
          [
           33,
           "ANNA",
           "HILL"
          ],
          [
           34,
           "REBECCA",
           "SCOTT"
          ],
          [
           35,
           "VIRGINIA",
           "GREEN"
          ],
          [
           36,
           "KATHLEEN",
           "ADAMS"
          ],
          [
           37,
           "PAMELA",
           "BAKER"
          ],
          [
           38,
           "MARTHA",
           "GONZALEZ"
          ],
          [
           39,
           "DEBRA",
           "NELSON"
          ],
          [
           40,
           "AMANDA",
           "CARTER"
          ],
          [
           41,
           "STEPHANIE",
           "MITCHELL"
          ],
          [
           42,
           "CAROLYN",
           "PEREZ"
          ],
          [
           43,
           "CHRISTINE",
           "ROBERTS"
          ],
          [
           44,
           "MARIE",
           "TURNER"
          ],
          [
           45,
           "JANET",
           "PHILLIPS"
          ],
          [
           46,
           "CATHERINE",
           "CAMPBELL"
          ],
          [
           47,
           "FRANCES",
           "PARKER"
          ],
          [
           48,
           "ANN",
           "EVANS"
          ],
          [
           49,
           "JOYCE",
           "EDWARDS"
          ],
          [
           50,
           "DIANE",
           "COLLINS"
          ],
          [
           51,
           "ALICE",
           "STEWART"
          ],
          [
           52,
           "JULIE",
           "SANCHEZ"
          ],
          [
           53,
           "HEATHER",
           "MORRIS"
          ],
          [
           54,
           "TERESA",
           "ROGERS"
          ],
          [
           55,
           "DORIS",
           "REED"
          ],
          [
           56,
           "GLORIA",
           "COOK"
          ],
          [
           57,
           "EVELYN",
           "MORGAN"
          ],
          [
           58,
           "JEAN",
           "BELL"
          ],
          [
           59,
           "CHERYL",
           "MURPHY"
          ],
          [
           60,
           "MILDRED",
           "BAILEY"
          ],
          [
           61,
           "KATHERINE",
           "RIVERA"
          ],
          [
           62,
           "JOAN",
           "COOPER"
          ],
          [
           63,
           "ASHLEY",
           "RICHARDSON"
          ],
          [
           64,
           "JUDITH",
           "COX"
          ],
          [
           65,
           "ROSE",
           "HOWARD"
          ],
          [
           66,
           "JANICE",
           "WARD"
          ],
          [
           67,
           "KELLY",
           "TORRES"
          ],
          [
           68,
           "NICOLE",
           "PETERSON"
          ],
          [
           69,
           "JUDY",
           "GRAY"
          ],
          [
           70,
           "CHRISTINA",
           "RAMIREZ"
          ],
          [
           71,
           "KATHY",
           "JAMES"
          ],
          [
           72,
           "THERESA",
           "WATSON"
          ],
          [
           73,
           "BEVERLY",
           "BROOKS"
          ],
          [
           74,
           "DENISE",
           "KELLY"
          ],
          [
           75,
           "TAMMY",
           "SANDERS"
          ],
          [
           76,
           "IRENE",
           "PRICE"
          ],
          [
           77,
           "JANE",
           "BENNETT"
          ],
          [
           78,
           "LORI",
           "WOOD"
          ],
          [
           79,
           "RACHEL",
           "BARNES"
          ],
          [
           80,
           "MARILYN",
           "ROSS"
          ],
          [
           81,
           "ANDREA",
           "HENDERSON"
          ],
          [
           82,
           "KATHRYN",
           "COLEMAN"
          ],
          [
           83,
           "LOUISE",
           "JENKINS"
          ],
          [
           84,
           "SARA",
           "PERRY"
          ],
          [
           85,
           "ANNE",
           "POWELL"
          ],
          [
           86,
           "JACQUELINE",
           "LONG"
          ],
          [
           87,
           "WANDA",
           "PATTERSON"
          ],
          [
           88,
           "BONNIE",
           "HUGHES"
          ],
          [
           89,
           "JULIA",
           "FLORES"
          ],
          [
           90,
           "RUBY",
           "WASHINGTON"
          ],
          [
           91,
           "LOIS",
           "BUTLER"
          ],
          [
           92,
           "TINA",
           "SIMMONS"
          ],
          [
           93,
           "PHYLLIS",
           "FOSTER"
          ],
          [
           94,
           "NORMA",
           "GONZALES"
          ],
          [
           95,
           "PAULA",
           "BRYANT"
          ],
          [
           96,
           "DIANA",
           "ALEXANDER"
          ],
          [
           97,
           "ANNIE",
           "RUSSELL"
          ],
          [
           98,
           "LILLIAN",
           "GRIFFIN"
          ],
          [
           99,
           "EMILY",
           "DIAZ"
          ],
          [
           100,
           "ROBIN",
           "HAYES"
          ],
          [
           101,
           "PEGGY",
           "MYERS"
          ],
          [
           102,
           "CRYSTAL",
           "FORD"
          ],
          [
           103,
           "GLADYS",
           "HAMILTON"
          ],
          [
           104,
           "RITA",
           "GRAHAM"
          ],
          [
           105,
           "DAWN",
           "SULLIVAN"
          ],
          [
           106,
           "CONNIE",
           "WALLACE"
          ],
          [
           107,
           "FLORENCE",
           "WOODS"
          ],
          [
           108,
           "TRACY",
           "COLE"
          ],
          [
           109,
           "EDNA",
           "WEST"
          ],
          [
           110,
           "TIFFANY",
           "JORDAN"
          ],
          [
           111,
           "CARMEN",
           "OWENS"
          ],
          [
           112,
           "ROSA",
           "REYNOLDS"
          ],
          [
           113,
           "CINDY",
           "FISHER"
          ],
          [
           114,
           "GRACE",
           "ELLIS"
          ],
          [
           115,
           "WENDY",
           "HARRISON"
          ],
          [
           116,
           "VICTORIA",
           "GIBSON"
          ],
          [
           117,
           "EDITH",
           "MCDONALD"
          ],
          [
           118,
           "KIM",
           "CRUZ"
          ],
          [
           119,
           "SHERRY",
           "MARSHALL"
          ],
          [
           120,
           "SYLVIA",
           "ORTIZ"
          ],
          [
           121,
           "JOSEPHINE",
           "GOMEZ"
          ],
          [
           122,
           "THELMA",
           "MURRAY"
          ],
          [
           123,
           "SHANNON",
           "FREEMAN"
          ],
          [
           124,
           "SHEILA",
           "WELLS"
          ],
          [
           125,
           "ETHEL",
           "WEBB"
          ],
          [
           126,
           "ELLEN",
           "SIMPSON"
          ],
          [
           127,
           "ELAINE",
           "STEVENS"
          ],
          [
           128,
           "MARJORIE",
           "TUCKER"
          ],
          [
           129,
           "CARRIE",
           "PORTER"
          ],
          [
           130,
           "CHARLOTTE",
           "HUNTER"
          ],
          [
           131,
           "MONICA",
           "HICKS"
          ],
          [
           132,
           "ESTHER",
           "CRAWFORD"
          ],
          [
           133,
           "PAULINE",
           "HENRY"
          ],
          [
           134,
           "EMMA",
           "BOYD"
          ],
          [
           135,
           "JUANITA",
           "MASON"
          ],
          [
           136,
           "ANITA",
           "MORALES"
          ],
          [
           137,
           "RHONDA",
           "KENNEDY"
          ],
          [
           138,
           "HAZEL",
           "WARREN"
          ],
          [
           139,
           "AMBER",
           "DIXON"
          ],
          [
           140,
           "EVA",
           "RAMOS"
          ],
          [
           141,
           "DEBBIE",
           "REYES"
          ],
          [
           142,
           "APRIL",
           "BURNS"
          ],
          [
           143,
           "LESLIE",
           "GORDON"
          ],
          [
           144,
           "CLARA",
           "SHAW"
          ],
          [
           145,
           "LUCILLE",
           "HOLMES"
          ],
          [
           146,
           "JAMIE",
           "RICE"
          ],
          [
           147,
           "JOANNE",
           "ROBERTSON"
          ],
          [
           148,
           "ELEANOR",
           "HUNT"
          ],
          [
           149,
           "VALERIE",
           "BLACK"
          ],
          [
           150,
           "DANIELLE",
           "DANIELS"
          ],
          [
           151,
           "MEGAN",
           "PALMER"
          ],
          [
           152,
           "ALICIA",
           "MILLS"
          ],
          [
           153,
           "SUZANNE",
           "NICHOLS"
          ],
          [
           154,
           "MICHELE",
           "GRANT"
          ],
          [
           155,
           "GAIL",
           "KNIGHT"
          ],
          [
           156,
           "BERTHA",
           "FERGUSON"
          ],
          [
           157,
           "DARLENE",
           "ROSE"
          ],
          [
           158,
           "VERONICA",
           "STONE"
          ],
          [
           159,
           "JILL",
           "HAWKINS"
          ],
          [
           160,
           "ERIN",
           "DUNN"
          ],
          [
           161,
           "GERALDINE",
           "PERKINS"
          ],
          [
           162,
           "LAUREN",
           "HUDSON"
          ],
          [
           163,
           "CATHY",
           "SPENCER"
          ],
          [
           164,
           "JOANN",
           "GARDNER"
          ],
          [
           165,
           "LORRAINE",
           "STEPHENS"
          ],
          [
           166,
           "LYNN",
           "PAYNE"
          ],
          [
           167,
           "SALLY",
           "PIERCE"
          ],
          [
           168,
           "REGINA",
           "BERRY"
          ],
          [
           169,
           "ERICA",
           "MATTHEWS"
          ],
          [
           170,
           "BEATRICE",
           "ARNOLD"
          ],
          [
           171,
           "DOLORES",
           "WAGNER"
          ],
          [
           172,
           "BERNICE",
           "WILLIS"
          ],
          [
           173,
           "AUDREY",
           "RAY"
          ],
          [
           174,
           "YVONNE",
           "WATKINS"
          ],
          [
           175,
           "ANNETTE",
           "OLSON"
          ],
          [
           176,
           "JUNE",
           "CARROLL"
          ],
          [
           177,
           "SAMANTHA",
           "DUNCAN"
          ],
          [
           178,
           "MARION",
           "SNYDER"
          ],
          [
           179,
           "DANA",
           "HART"
          ],
          [
           180,
           "STACY",
           "CUNNINGHAM"
          ],
          [
           181,
           "ANA",
           "BRADLEY"
          ],
          [
           182,
           "RENEE",
           "LANE"
          ],
          [
           183,
           "IDA",
           "ANDREWS"
          ],
          [
           184,
           "VIVIAN",
           "RUIZ"
          ],
          [
           185,
           "ROBERTA",
           "HARPER"
          ],
          [
           186,
           "HOLLY",
           "FOX"
          ],
          [
           187,
           "BRITTANY",
           "RILEY"
          ],
          [
           188,
           "MELANIE",
           "ARMSTRONG"
          ],
          [
           189,
           "LORETTA",
           "CARPENTER"
          ],
          [
           190,
           "YOLANDA",
           "WEAVER"
          ],
          [
           191,
           "JEANETTE",
           "GREENE"
          ],
          [
           192,
           "LAURIE",
           "LAWRENCE"
          ],
          [
           193,
           "KATIE",
           "ELLIOTT"
          ],
          [
           194,
           "KRISTEN",
           "CHAVEZ"
          ],
          [
           195,
           "VANESSA",
           "SIMS"
          ],
          [
           196,
           "ALMA",
           "AUSTIN"
          ],
          [
           197,
           "SUE",
           "PETERS"
          ],
          [
           198,
           "ELSIE",
           "KELLEY"
          ],
          [
           199,
           "BETH",
           "FRANKLIN"
          ],
          [
           200,
           "JEANNE",
           "LAWSON"
          ],
          [
           201,
           "VICKI",
           "FIELDS"
          ],
          [
           202,
           "CARLA",
           "GUTIERREZ"
          ],
          [
           203,
           "TARA",
           "RYAN"
          ],
          [
           204,
           "ROSEMARY",
           "SCHMIDT"
          ],
          [
           205,
           "EILEEN",
           "CARR"
          ],
          [
           206,
           "TERRI",
           "VASQUEZ"
          ],
          [
           207,
           "GERTRUDE",
           "CASTILLO"
          ],
          [
           208,
           "LUCY",
           "WHEELER"
          ],
          [
           209,
           "TONYA",
           "CHAPMAN"
          ],
          [
           210,
           "ELLA",
           "OLIVER"
          ],
          [
           211,
           "STACEY",
           "MONTGOMERY"
          ],
          [
           212,
           "WILMA",
           "RICHARDS"
          ],
          [
           213,
           "GINA",
           "WILLIAMSON"
          ],
          [
           214,
           "KRISTIN",
           "JOHNSTON"
          ],
          [
           215,
           "JESSIE",
           "BANKS"
          ],
          [
           216,
           "NATALIE",
           "MEYER"
          ],
          [
           217,
           "AGNES",
           "BISHOP"
          ],
          [
           218,
           "VERA",
           "MCCOY"
          ],
          [
           219,
           "WILLIE",
           "HOWELL"
          ],
          [
           220,
           "CHARLENE",
           "ALVAREZ"
          ],
          [
           221,
           "BESSIE",
           "MORRISON"
          ],
          [
           222,
           "DELORES",
           "HANSEN"
          ],
          [
           223,
           "MELINDA",
           "FERNANDEZ"
          ],
          [
           224,
           "PEARL",
           "GARZA"
          ],
          [
           225,
           "ARLENE",
           "HARVEY"
          ],
          [
           226,
           "MAUREEN",
           "LITTLE"
          ],
          [
           227,
           "COLLEEN",
           "BURTON"
          ],
          [
           228,
           "ALLISON",
           "STANLEY"
          ],
          [
           229,
           "TAMARA",
           "NGUYEN"
          ],
          [
           230,
           "JOY",
           "GEORGE"
          ],
          [
           231,
           "GEORGIA",
           "JACOBS"
          ],
          [
           232,
           "CONSTANCE",
           "REID"
          ],
          [
           233,
           "LILLIE",
           "KIM"
          ],
          [
           234,
           "CLAUDIA",
           "FULLER"
          ],
          [
           235,
           "JACKIE",
           "LYNCH"
          ],
          [
           236,
           "MARCIA",
           "DEAN"
          ],
          [
           237,
           "TANYA",
           "GILBERT"
          ],
          [
           238,
           "NELLIE",
           "GARRETT"
          ],
          [
           239,
           "MINNIE",
           "ROMERO"
          ],
          [
           240,
           "MARLENE",
           "WELCH"
          ],
          [
           241,
           "HEIDI",
           "LARSON"
          ],
          [
           242,
           "GLENDA",
           "FRAZIER"
          ],
          [
           243,
           "LYDIA",
           "BURKE"
          ],
          [
           244,
           "VIOLA",
           "HANSON"
          ],
          [
           245,
           "COURTNEY",
           "DAY"
          ],
          [
           246,
           "MARIAN",
           "MENDOZA"
          ],
          [
           247,
           "STELLA",
           "MORENO"
          ],
          [
           248,
           "CAROLINE",
           "BOWMAN"
          ],
          [
           249,
           "DORA",
           "MEDINA"
          ],
          [
           250,
           "JO",
           "FOWLER"
          ],
          [
           251,
           "VICKIE",
           "BREWER"
          ],
          [
           252,
           "MATTIE",
           "HOFFMAN"
          ],
          [
           253,
           "TERRY",
           "CARLSON"
          ],
          [
           254,
           "MAXINE",
           "SILVA"
          ],
          [
           255,
           "IRMA",
           "PEARSON"
          ],
          [
           256,
           "MABEL",
           "HOLLAND"
          ],
          [
           257,
           "MARSHA",
           "DOUGLAS"
          ],
          [
           258,
           "MYRTLE",
           "FLEMING"
          ],
          [
           259,
           "LENA",
           "JENSEN"
          ],
          [
           260,
           "CHRISTY",
           "VARGAS"
          ],
          [
           261,
           "DEANNA",
           "BYRD"
          ],
          [
           262,
           "PATSY",
           "DAVIDSON"
          ],
          [
           263,
           "HILDA",
           "HOPKINS"
          ],
          [
           264,
           "GWENDOLYN",
           "MAY"
          ],
          [
           265,
           "JENNIE",
           "TERRY"
          ],
          [
           266,
           "NORA",
           "HERRERA"
          ],
          [
           267,
           "MARGIE",
           "WADE"
          ],
          [
           268,
           "NINA",
           "SOTO"
          ],
          [
           269,
           "CASSANDRA",
           "WALTERS"
          ],
          [
           270,
           "LEAH",
           "CURTIS"
          ],
          [
           271,
           "PENNY",
           "NEAL"
          ],
          [
           272,
           "KAY",
           "CALDWELL"
          ],
          [
           273,
           "PRISCILLA",
           "LOWE"
          ],
          [
           274,
           "NAOMI",
           "JENNINGS"
          ],
          [
           275,
           "CAROLE",
           "BARNETT"
          ],
          [
           276,
           "BRANDY",
           "GRAVES"
          ],
          [
           277,
           "OLGA",
           "JIMENEZ"
          ],
          [
           278,
           "BILLIE",
           "HORTON"
          ],
          [
           279,
           "DIANNE",
           "SHELTON"
          ],
          [
           280,
           "TRACEY",
           "BARRETT"
          ],
          [
           281,
           "LEONA",
           "OBRIEN"
          ],
          [
           282,
           "JENNY",
           "CASTRO"
          ],
          [
           283,
           "FELICIA",
           "SUTTON"
          ],
          [
           284,
           "SONIA",
           "GREGORY"
          ],
          [
           285,
           "MIRIAM",
           "MCKINNEY"
          ],
          [
           286,
           "VELMA",
           "LUCAS"
          ],
          [
           287,
           "BECKY",
           "MILES"
          ],
          [
           288,
           "BOBBIE",
           "CRAIG"
          ],
          [
           289,
           "VIOLET",
           "RODRIQUEZ"
          ],
          [
           290,
           "KRISTINA",
           "CHAMBERS"
          ],
          [
           291,
           "TONI",
           "HOLT"
          ],
          [
           292,
           "MISTY",
           "LAMBERT"
          ],
          [
           293,
           "MAE",
           "FLETCHER"
          ],
          [
           294,
           "SHELLY",
           "WATTS"
          ],
          [
           295,
           "DAISY",
           "BATES"
          ],
          [
           296,
           "RAMONA",
           "HALE"
          ],
          [
           297,
           "SHERRI",
           "RHODES"
          ],
          [
           298,
           "ERIKA",
           "PENA"
          ],
          [
           299,
           "JAMES",
           "GANNON"
          ],
          [
           300,
           "JOHN",
           "FARNSWORTH"
          ],
          [
           301,
           "ROBERT",
           "BAUGHMAN"
          ],
          [
           302,
           "MICHAEL",
           "SILVERMAN"
          ],
          [
           303,
           "WILLIAM",
           "SATTERFIELD"
          ],
          [
           304,
           "DAVID",
           "ROYAL"
          ],
          [
           305,
           "RICHARD",
           "MCCRARY"
          ],
          [
           306,
           "CHARLES",
           "KOWALSKI"
          ],
          [
           307,
           "JOSEPH",
           "JOY"
          ],
          [
           308,
           "THOMAS",
           "GRIGSBY"
          ],
          [
           309,
           "CHRISTOPHER",
           "GRECO"
          ],
          [
           310,
           "DANIEL",
           "CABRAL"
          ],
          [
           311,
           "PAUL",
           "TROUT"
          ],
          [
           312,
           "MARK",
           "RINEHART"
          ],
          [
           313,
           "DONALD",
           "MAHON"
          ],
          [
           314,
           "GEORGE",
           "LINTON"
          ],
          [
           315,
           "KENNETH",
           "GOODEN"
          ],
          [
           316,
           "STEVEN",
           "CURLEY"
          ],
          [
           317,
           "EDWARD",
           "BAUGH"
          ],
          [
           318,
           "BRIAN",
           "WYMAN"
          ],
          [
           319,
           "RONALD",
           "WEINER"
          ],
          [
           320,
           "ANTHONY",
           "SCHWAB"
          ],
          [
           321,
           "KEVIN",
           "SCHULER"
          ],
          [
           322,
           "JASON",
           "MORRISSEY"
          ],
          [
           323,
           "MATTHEW",
           "MAHAN"
          ],
          [
           324,
           "GARY",
           "COY"
          ],
          [
           325,
           "TIMOTHY",
           "BUNN"
          ],
          [
           326,
           "JOSE",
           "ANDREW"
          ],
          [
           327,
           "LARRY",
           "THRASHER"
          ],
          [
           328,
           "JEFFREY",
           "SPEAR"
          ],
          [
           329,
           "FRANK",
           "WAGGONER"
          ],
          [
           330,
           "SCOTT",
           "SHELLEY"
          ],
          [
           331,
           "ERIC",
           "ROBERT"
          ],
          [
           332,
           "STEPHEN",
           "QUALLS"
          ],
          [
           333,
           "ANDREW",
           "PURDY"
          ],
          [
           334,
           "RAYMOND",
           "MCWHORTER"
          ],
          [
           335,
           "GREGORY",
           "MAULDIN"
          ],
          [
           336,
           "JOSHUA",
           "MARK"
          ],
          [
           337,
           "JERRY",
           "JORDON"
          ],
          [
           338,
           "DENNIS",
           "GILMAN"
          ],
          [
           339,
           "WALTER",
           "PERRYMAN"
          ],
          [
           340,
           "PATRICK",
           "NEWSOM"
          ],
          [
           341,
           "PETER",
           "MENARD"
          ],
          [
           342,
           "HAROLD",
           "MARTINO"
          ],
          [
           343,
           "DOUGLAS",
           "GRAF"
          ],
          [
           344,
           "HENRY",
           "BILLINGSLEY"
          ],
          [
           345,
           "CARL",
           "ARTIS"
          ],
          [
           346,
           "ARTHUR",
           "SIMPKINS"
          ],
          [
           347,
           "RYAN",
           "SALISBURY"
          ],
          [
           348,
           "ROGER",
           "QUINTANILLA"
          ],
          [
           349,
           "JOE",
           "GILLILAND"
          ],
          [
           350,
           "JUAN",
           "FRALEY"
          ],
          [
           351,
           "JACK",
           "FOUST"
          ],
          [
           352,
           "ALBERT",
           "CROUSE"
          ],
          [
           353,
           "JONATHAN",
           "SCARBOROUGH"
          ],
          [
           354,
           "JUSTIN",
           "NGO"
          ],
          [
           355,
           "TERRY",
           "GRISSOM"
          ],
          [
           356,
           "GERALD",
           "FULTZ"
          ],
          [
           357,
           "KEITH",
           "RICO"
          ],
          [
           358,
           "SAMUEL",
           "MARLOW"
          ],
          [
           359,
           "WILLIE",
           "MARKHAM"
          ],
          [
           360,
           "RALPH",
           "MADRIGAL"
          ],
          [
           361,
           "LAWRENCE",
           "LAWTON"
          ],
          [
           362,
           "NICHOLAS",
           "BARFIELD"
          ],
          [
           363,
           "ROY",
           "WHITING"
          ],
          [
           364,
           "BENJAMIN",
           "VARNEY"
          ],
          [
           365,
           "BRUCE",
           "SCHWARZ"
          ],
          [
           366,
           "BRANDON",
           "HUEY"
          ],
          [
           367,
           "ADAM",
           "GOOCH"
          ],
          [
           368,
           "HARRY",
           "ARCE"
          ],
          [
           369,
           "FRED",
           "WHEAT"
          ],
          [
           370,
           "WAYNE",
           "TRUONG"
          ],
          [
           371,
           "BILLY",
           "POULIN"
          ],
          [
           372,
           "STEVE",
           "MACKENZIE"
          ],
          [
           373,
           "LOUIS",
           "LEONE"
          ],
          [
           374,
           "JEREMY",
           "HURTADO"
          ],
          [
           375,
           "AARON",
           "SELBY"
          ],
          [
           376,
           "RANDY",
           "GAITHER"
          ],
          [
           377,
           "HOWARD",
           "FORTNER"
          ],
          [
           378,
           "EUGENE",
           "CULPEPPER"
          ],
          [
           379,
           "CARLOS",
           "COUGHLIN"
          ],
          [
           380,
           "RUSSELL",
           "BRINSON"
          ],
          [
           381,
           "BOBBY",
           "BOUDREAU"
          ],
          [
           382,
           "VICTOR",
           "BARKLEY"
          ],
          [
           383,
           "MARTIN",
           "BALES"
          ],
          [
           384,
           "ERNEST",
           "STEPP"
          ],
          [
           385,
           "PHILLIP",
           "HOLM"
          ],
          [
           386,
           "TODD",
           "TAN"
          ],
          [
           387,
           "JESSE",
           "SCHILLING"
          ],
          [
           388,
           "CRAIG",
           "MORRELL"
          ],
          [
           389,
           "ALAN",
           "KAHN"
          ],
          [
           390,
           "SHAWN",
           "HEATON"
          ],
          [
           391,
           "CLARENCE",
           "GAMEZ"
          ],
          [
           392,
           "SEAN",
           "DOUGLASS"
          ],
          [
           393,
           "PHILIP",
           "CAUSEY"
          ],
          [
           394,
           "CHRIS",
           "BROTHERS"
          ],
          [
           395,
           "JOHNNY",
           "TURPIN"
          ],
          [
           396,
           "EARL",
           "SHANKS"
          ],
          [
           397,
           "JIMMY",
           "SCHRADER"
          ],
          [
           398,
           "ANTONIO",
           "MEEK"
          ],
          [
           399,
           "DANNY",
           "ISOM"
          ],
          [
           400,
           "BRYAN",
           "HARDISON"
          ],
          [
           401,
           "TONY",
           "CARRANZA"
          ],
          [
           402,
           "LUIS",
           "YANEZ"
          ],
          [
           403,
           "MIKE",
           "WAY"
          ],
          [
           404,
           "STANLEY",
           "SCROGGINS"
          ],
          [
           405,
           "LEONARD",
           "SCHOFIELD"
          ],
          [
           406,
           "NATHAN",
           "RUNYON"
          ],
          [
           407,
           "DALE",
           "RATCLIFF"
          ],
          [
           408,
           "MANUEL",
           "MURRELL"
          ],
          [
           409,
           "RODNEY",
           "MOELLER"
          ],
          [
           410,
           "CURTIS",
           "IRBY"
          ],
          [
           411,
           "NORMAN",
           "CURRIER"
          ],
          [
           412,
           "ALLEN",
           "BUTTERFIELD"
          ],
          [
           413,
           "MARVIN",
           "YEE"
          ],
          [
           414,
           "VINCENT",
           "RALSTON"
          ],
          [
           415,
           "GLENN",
           "PULLEN"
          ],
          [
           416,
           "JEFFERY",
           "PINSON"
          ],
          [
           417,
           "TRAVIS",
           "ESTEP"
          ],
          [
           418,
           "JEFF",
           "EAST"
          ],
          [
           419,
           "CHAD",
           "CARBONE"
          ],
          [
           420,
           "JACOB",
           "LANCE"
          ],
          [
           421,
           "LEE",
           "HAWKS"
          ],
          [
           422,
           "MELVIN",
           "ELLINGTON"
          ],
          [
           423,
           "ALFRED",
           "CASILLAS"
          ],
          [
           424,
           "KYLE",
           "SPURLOCK"
          ],
          [
           425,
           "FRANCIS",
           "SIKES"
          ],
          [
           426,
           "BRADLEY",
           "MOTLEY"
          ],
          [
           427,
           "JESUS",
           "MCCARTNEY"
          ],
          [
           428,
           "HERBERT",
           "KRUGER"
          ],
          [
           429,
           "FREDERICK",
           "ISBELL"
          ],
          [
           430,
           "RAY",
           "HOULE"
          ],
          [
           431,
           "JOEL",
           "FRANCISCO"
          ],
          [
           432,
           "EDWIN",
           "BURK"
          ],
          [
           433,
           "DON",
           "BONE"
          ],
          [
           434,
           "EDDIE",
           "TOMLIN"
          ],
          [
           435,
           "RICKY",
           "SHELBY"
          ],
          [
           436,
           "TROY",
           "QUIGLEY"
          ],
          [
           437,
           "RANDALL",
           "NEUMANN"
          ],
          [
           438,
           "BARRY",
           "LOVELACE"
          ],
          [
           439,
           "ALEXANDER",
           "FENNELL"
          ],
          [
           440,
           "BERNARD",
           "COLBY"
          ],
          [
           441,
           "MARIO",
           "CHEATHAM"
          ],
          [
           442,
           "LEROY",
           "BUSTAMANTE"
          ],
          [
           443,
           "FRANCISCO",
           "SKIDMORE"
          ],
          [
           444,
           "MARCUS",
           "HIDALGO"
          ],
          [
           445,
           "MICHEAL",
           "FORMAN"
          ],
          [
           446,
           "THEODORE",
           "CULP"
          ],
          [
           447,
           "CLIFFORD",
           "BOWENS"
          ],
          [
           448,
           "MIGUEL",
           "BETANCOURT"
          ],
          [
           449,
           "OSCAR",
           "AQUINO"
          ],
          [
           450,
           "JAY",
           "ROBB"
          ],
          [
           451,
           "JIM",
           "REA"
          ],
          [
           452,
           "TOM",
           "MILNER"
          ],
          [
           453,
           "CALVIN",
           "MARTEL"
          ],
          [
           454,
           "ALEX",
           "GRESHAM"
          ],
          [
           455,
           "JON",
           "WILES"
          ],
          [
           456,
           "RONNIE",
           "RICKETTS"
          ],
          [
           457,
           "BILL",
           "GAVIN"
          ],
          [
           458,
           "LLOYD",
           "DOWD"
          ],
          [
           459,
           "TOMMY",
           "COLLAZO"
          ],
          [
           460,
           "LEON",
           "BOSTIC"
          ],
          [
           461,
           "DEREK",
           "BLAKELY"
          ],
          [
           462,
           "WARREN",
           "SHERROD"
          ],
          [
           463,
           "DARRELL",
           "POWER"
          ],
          [
           464,
           "JEROME",
           "KENYON"
          ],
          [
           465,
           "FLOYD",
           "GANDY"
          ],
          [
           466,
           "LEO",
           "EBERT"
          ],
          [
           467,
           "ALVIN",
           "DELOACH"
          ],
          [
           468,
           "TIM",
           "CARY"
          ],
          [
           469,
           "WESLEY",
           "BULL"
          ],
          [
           470,
           "GORDON",
           "ALLARD"
          ],
          [
           471,
           "DEAN",
           "SAUER"
          ],
          [
           472,
           "GREG",
           "ROBINS"
          ],
          [
           473,
           "JORGE",
           "OLIVARES"
          ],
          [
           474,
           "DUSTIN",
           "GILLETTE"
          ],
          [
           475,
           "PEDRO",
           "CHESTNUT"
          ],
          [
           476,
           "DERRICK",
           "BOURQUE"
          ],
          [
           477,
           "DAN",
           "PAINE"
          ],
          [
           478,
           "LEWIS",
           "LYMAN"
          ],
          [
           479,
           "ZACHARY",
           "HITE"
          ],
          [
           480,
           "COREY",
           "HAUSER"
          ],
          [
           481,
           "HERMAN",
           "DEVORE"
          ],
          [
           482,
           "MAURICE",
           "CRAWLEY"
          ],
          [
           483,
           "VERNON",
           "CHAPA"
          ],
          [
           484,
           "ROBERTO",
           "VU"
          ],
          [
           485,
           "CLYDE",
           "TOBIAS"
          ],
          [
           486,
           "GLEN",
           "TALBERT"
          ],
          [
           487,
           "HECTOR",
           "POINDEXTER"
          ],
          [
           488,
           "SHANE",
           "MILLARD"
          ],
          [
           489,
           "RICARDO",
           "MEADOR"
          ],
          [
           490,
           "SAM",
           "MCDUFFIE"
          ],
          [
           491,
           "RICK",
           "MATTOX"
          ],
          [
           492,
           "LESTER",
           "KRAUS"
          ],
          [
           493,
           "BRENT",
           "HARKINS"
          ],
          [
           494,
           "RAMON",
           "CHOATE"
          ],
          [
           495,
           "CHARLIE",
           "BESS"
          ],
          [
           496,
           "TYLER",
           "WREN"
          ],
          [
           497,
           "GILBERT",
           "SLEDGE"
          ],
          [
           498,
           "GENE",
           "SANBORN"
          ],
          [
           499,
           "MARC",
           "OUTLAW"
          ],
          [
           500,
           "REGINALD",
           "KINDER"
          ],
          [
           501,
           "RUBEN",
           "GEARY"
          ],
          [
           502,
           "BRETT",
           "CORNWELL"
          ],
          [
           503,
           "ANGEL",
           "BARCLAY"
          ],
          [
           504,
           "NATHANIEL",
           "ADAM"
          ],
          [
           505,
           "RAFAEL",
           "ABNEY"
          ],
          [
           506,
           "LESLIE",
           "SEWARD"
          ],
          [
           507,
           "EDGAR",
           "RHOADS"
          ],
          [
           508,
           "MILTON",
           "HOWLAND"
          ],
          [
           509,
           "RAUL",
           "FORTIER"
          ],
          [
           510,
           "BEN",
           "EASTER"
          ],
          [
           511,
           "CHESTER",
           "BENNER"
          ],
          [
           512,
           "CECIL",
           "VINES"
          ],
          [
           513,
           "DUANE",
           "TUBBS"
          ],
          [
           514,
           "FRANKLIN",
           "TROUTMAN"
          ],
          [
           515,
           "ANDRE",
           "RAPP"
          ],
          [
           516,
           "ELMER",
           "NOE"
          ],
          [
           517,
           "BRAD",
           "MCCURDY"
          ],
          [
           518,
           "GABRIEL",
           "HARDER"
          ],
          [
           519,
           "RON",
           "DELUCA"
          ],
          [
           520,
           "MITCHELL",
           "WESTMORELAND"
          ],
          [
           521,
           "ROLAND",
           "SOUTH"
          ],
          [
           522,
           "ARNOLD",
           "HAVENS"
          ],
          [
           523,
           "HARVEY",
           "GUAJARDO"
          ],
          [
           524,
           "JARED",
           "ELY"
          ],
          [
           525,
           "ADRIAN",
           "CLARY"
          ],
          [
           526,
           "KARL",
           "SEAL"
          ],
          [
           527,
           "CORY",
           "MEEHAN"
          ],
          [
           528,
           "CLAUDE",
           "HERZOG"
          ],
          [
           529,
           "ERIK",
           "GUILLEN"
          ],
          [
           530,
           "DARRYL",
           "ASHCRAFT"
          ],
          [
           531,
           "JAMIE",
           "WAUGH"
          ],
          [
           532,
           "NEIL",
           "RENNER"
          ],
          [
           533,
           "JESSIE",
           "MILAM"
          ],
          [
           534,
           "CHRISTIAN",
           "JUNG"
          ],
          [
           535,
           "JAVIER",
           "ELROD"
          ],
          [
           536,
           "FERNANDO",
           "CHURCHILL"
          ],
          [
           537,
           "CLINTON",
           "BUFORD"
          ],
          [
           538,
           "TED",
           "BREAUX"
          ],
          [
           539,
           "MATHEW",
           "BOLIN"
          ],
          [
           540,
           "TYRONE",
           "ASHER"
          ],
          [
           541,
           "DARREN",
           "WINDHAM"
          ],
          [
           542,
           "LONNIE",
           "TIRADO"
          ],
          [
           543,
           "LANCE",
           "PEMBERTON"
          ],
          [
           544,
           "CODY",
           "NOLEN"
          ],
          [
           545,
           "JULIO",
           "NOLAND"
          ],
          [
           546,
           "KELLY",
           "KNOTT"
          ],
          [
           547,
           "KURT",
           "EMMONS"
          ],
          [
           548,
           "ALLAN",
           "CORNISH"
          ],
          [
           549,
           "NELSON",
           "CHRISTENSON"
          ],
          [
           550,
           "GUY",
           "BROWNLEE"
          ],
          [
           551,
           "CLAYTON",
           "BARBEE"
          ],
          [
           552,
           "HUGH",
           "WALDROP"
          ],
          [
           553,
           "MAX",
           "PITT"
          ],
          [
           554,
           "DWAYNE",
           "OLVERA"
          ],
          [
           555,
           "DWIGHT",
           "LOMBARDI"
          ],
          [
           556,
           "ARMANDO",
           "GRUBER"
          ],
          [
           557,
           "FELIX",
           "GAFFNEY"
          ],
          [
           558,
           "JIMMIE",
           "EGGLESTON"
          ],
          [
           559,
           "EVERETT",
           "BANDA"
          ],
          [
           560,
           "JORDAN",
           "ARCHULETA"
          ],
          [
           561,
           "IAN",
           "STILL"
          ],
          [
           562,
           "WALLACE",
           "SLONE"
          ],
          [
           563,
           "KEN",
           "PREWITT"
          ],
          [
           564,
           "BOB",
           "PFEIFFER"
          ],
          [
           565,
           "JAIME",
           "NETTLES"
          ],
          [
           566,
           "CASEY",
           "MENA"
          ],
          [
           567,
           "ALFREDO",
           "MCADAMS"
          ],
          [
           568,
           "ALBERTO",
           "HENNING"
          ],
          [
           569,
           "DAVE",
           "GARDINER"
          ],
          [
           570,
           "IVAN",
           "CROMWELL"
          ],
          [
           571,
           "JOHNNIE",
           "CHISHOLM"
          ],
          [
           572,
           "SIDNEY",
           "BURLESON"
          ],
          [
           573,
           "BYRON",
           "BOX"
          ],
          [
           574,
           "JULIAN",
           "VEST"
          ],
          [
           575,
           "ISAAC",
           "OGLESBY"
          ],
          [
           576,
           "MORRIS",
           "MCCARTER"
          ],
          [
           577,
           "CLIFTON",
           "MALCOLM"
          ],
          [
           578,
           "WILLARD",
           "LUMPKIN"
          ],
          [
           579,
           "DARYL",
           "LARUE"
          ],
          [
           580,
           "ROSS",
           "GREY"
          ],
          [
           581,
           "VIRGIL",
           "WOFFORD"
          ],
          [
           582,
           "ANDY",
           "VANHORN"
          ],
          [
           583,
           "MARSHALL",
           "THORN"
          ],
          [
           584,
           "SALVADOR",
           "TEEL"
          ],
          [
           585,
           "PERRY",
           "SWAFFORD"
          ],
          [
           586,
           "KIRK",
           "STCLAIR"
          ],
          [
           587,
           "SERGIO",
           "STANFIELD"
          ],
          [
           588,
           "MARION",
           "OCAMPO"
          ],
          [
           589,
           "TRACY",
           "HERRMANN"
          ],
          [
           590,
           "SETH",
           "HANNON"
          ],
          [
           591,
           "KENT",
           "ARSENAULT"
          ],
          [
           592,
           "TERRANCE",
           "ROUSH"
          ],
          [
           593,
           "RENE",
           "MCALISTER"
          ],
          [
           594,
           "EDUARDO",
           "HIATT"
          ],
          [
           595,
           "TERRENCE",
           "GUNDERSON"
          ],
          [
           596,
           "ENRIQUE",
           "FORSYTHE"
          ],
          [
           597,
           "FREDDIE",
           "DUGGAN"
          ],
          [
           598,
           "WADE",
           "DELVALLE"
          ],
          [
           599,
           "AUSTIN",
           "CINTRON"
          ]
         ],
         "hovertemplate": "Total Payment=%{x}<br>Rental Frequency=%{y}<br>Average Film Length=%{z}<br>CustomerId=%{customdata[0]}<br>FirstName=%{customdata[1]}<br>LastName=%{customdata[2]}<br>cluster=%{marker.color}<extra></extra>",
         "legendgroup": "",
         "marker": {
          "color": {
           "bdata": "AQAAAAEAAAAAAAAAAgAAAAEAAAACAAAAAQAAAAAAAAACAAAAAgAAAAAAAAACAAAAAAAAAAAAAAABAAAAAQAAAAIAAAAAAAAAAgAAAAEAAAABAAAAAAAAAAEAAAACAAAAAQAAAAEAAAABAAAAAQAAAAEAAAABAAAAAgAAAAEAAAACAAAAAAAAAAEAAAAAAAAAAAAAAAEAAAAAAAAAAAAAAAIAAAABAAAAAgAAAAAAAAABAAAAAQAAAAAAAAACAAAAAQAAAAEAAAABAAAAAgAAAAEAAAABAAAAAgAAAAEAAAACAAAAAgAAAAIAAAAAAAAAAgAAAAAAAAAAAAAAAQAAAAAAAAABAAAAAgAAAAIAAAAAAAAAAgAAAAEAAAAAAAAAAAAAAAIAAAABAAAAAAAAAAIAAAABAAAAAgAAAAEAAAAAAAAAAgAAAAIAAAABAAAAAgAAAAEAAAABAAAAAgAAAAEAAAACAAAAAQAAAAEAAAAAAAAAAAAAAAAAAAABAAAAAAAAAAIAAAAAAAAAAAAAAAIAAAABAAAAAQAAAAIAAAAAAAAAAgAAAAEAAAABAAAAAgAAAAAAAAACAAAAAQAAAAIAAAABAAAAAgAAAAIAAAAAAAAAAgAAAAEAAAABAAAAAgAAAAEAAAAAAAAAAAAAAAEAAAABAAAAAgAAAAEAAAABAAAAAgAAAAEAAAAAAAAAAgAAAAAAAAAAAAAAAgAAAAEAAAABAAAAAgAAAAAAAAABAAAAAAAAAAIAAAABAAAAAgAAAAEAAAABAAAAAQAAAAIAAAAAAAAAAgAAAAIAAAAAAAAAAQAAAAIAAAACAAAAAQAAAAEAAAACAAAAAgAAAAAAAAACAAAAAQAAAAAAAAACAAAAAgAAAAEAAAABAAAAAAAAAAIAAAACAAAAAQAAAAEAAAAAAAAAAgAAAAEAAAACAAAAAQAAAAEAAAACAAAAAQAAAAAAAAACAAAAAgAAAAIAAAABAAAAAQAAAAIAAAACAAAAAgAAAAIAAAACAAAAAAAAAAAAAAAAAAAAAQAAAAEAAAABAAAAAgAAAAEAAAAAAAAAAAAAAAAAAAABAAAAAAAAAAEAAAABAAAAAgAAAAEAAAABAAAAAQAAAAIAAAABAAAAAQAAAAAAAAAAAAAAAgAAAAAAAAACAAAAAAAAAAIAAAAAAAAAAgAAAAAAAAAAAAAAAgAAAAIAAAACAAAAAAAAAAEAAAAAAAAAAAAAAAIAAAACAAAAAgAAAAEAAAABAAAAAgAAAAEAAAABAAAAAQAAAAEAAAAAAAAAAAAAAAEAAAACAAAAAgAAAAAAAAAAAAAAAgAAAAEAAAACAAAAAQAAAAEAAAAAAAAAAAAAAAEAAAACAAAAAQAAAAAAAAACAAAAAAAAAAEAAAAAAAAAAQAAAAAAAAABAAAAAQAAAAEAAAAAAAAAAgAAAAIAAAABAAAAAQAAAAIAAAAAAAAAAQAAAAIAAAABAAAAAQAAAAIAAAACAAAAAAAAAAEAAAACAAAAAgAAAAEAAAAAAAAAAQAAAAIAAAAAAAAAAQAAAAEAAAACAAAAAQAAAAEAAAABAAAAAAAAAAEAAAABAAAAAAAAAAEAAAACAAAAAgAAAAAAAAABAAAAAQAAAAAAAAABAAAAAAAAAAIAAAACAAAAAgAAAAEAAAACAAAAAQAAAAAAAAACAAAAAQAAAAIAAAAAAAAAAAAAAAEAAAACAAAAAgAAAAIAAAACAAAAAgAAAAEAAAAAAAAAAAAAAAEAAAAAAAAAAQAAAAAAAAABAAAAAQAAAAIAAAABAAAAAQAAAAAAAAABAAAAAgAAAAIAAAAAAAAAAQAAAAEAAAABAAAAAQAAAAIAAAACAAAAAAAAAAIAAAABAAAAAgAAAAEAAAAAAAAAAAAAAAIAAAABAAAAAgAAAAEAAAABAAAAAgAAAAAAAAABAAAAAAAAAAEAAAACAAAAAAAAAAEAAAABAAAAAQAAAAIAAAACAAAAAgAAAAIAAAACAAAAAgAAAAEAAAABAAAAAAAAAAIAAAACAAAAAgAAAAEAAAACAAAAAQAAAAAAAAABAAAAAgAAAAAAAAAAAAAAAAAAAAIAAAACAAAAAAAAAAIAAAACAAAAAAAAAAAAAAAAAAAAAQAAAAEAAAAAAAAAAQAAAAIAAAABAAAAAAAAAAEAAAAAAAAAAgAAAAIAAAAAAAAAAgAAAAAAAAAAAAAAAQAAAAAAAAAAAAAAAQAAAAAAAAABAAAAAQAAAAIAAAACAAAAAgAAAAIAAAACAAAAAgAAAAIAAAAAAAAAAAAAAAAAAAAAAAAAAQAAAAIAAAABAAAAAQAAAAIAAAAAAAAAAQAAAAAAAAAAAAAAAgAAAAEAAAACAAAAAAAAAAIAAAAAAAAAAQAAAAEAAAACAAAAAQAAAAIAAAAAAAAAAAAAAAAAAAABAAAAAgAAAAIAAAABAAAAAgAAAAIAAAACAAAAAgAAAAEAAAABAAAAAQAAAAEAAAABAAAAAQAAAAEAAAACAAAAAAAAAAIAAAACAAAAAgAAAAEAAAACAAAAAQAAAAEAAAACAAAAAQAAAAEAAAAAAAAAAgAAAAAAAAACAAAAAgAAAAAAAAAAAAAAAAAAAAEAAAAAAAAAAgAAAAEAAAAAAAAAAQAAAAEAAAAAAAAAAQAAAAEAAAABAAAAAgAAAAEAAAACAAAAAAAAAAIAAAABAAAAAgAAAAIAAAABAAAAAAAAAAAAAAAAAAAAAAAAAAIAAAACAAAAAQAAAAIAAAABAAAAAgAAAAIAAAACAAAAAQAAAAIAAAACAAAAAQAAAAIAAAACAAAAAQAAAAEAAAACAAAAAQAAAAIAAAACAAAAAQAAAAAAAAACAAAAAAAAAAIAAAACAAAAAgAAAAAAAAACAAAAAgAAAAAAAAACAAAAAQAAAAIAAAACAAAAAgAAAAAAAAACAAAAAgAAAAIAAAABAAAAAgAAAAEAAAAAAAAAAgAAAAIAAAAAAAAAAQAAAAEAAAAAAAAAAAAAAAEAAAAAAAAAAAAAAAIAAAAAAAAAAQAAAAEAAAABAAAAAgAAAAIAAAAAAAAAAgAAAAAAAAAAAAAAAAAAAAEAAAAAAAAAAAAAAAIAAAABAAAAAQAAAAIAAAABAAAAAgAAAAIAAAABAAAAAQAAAAAAAAAAAAAAAgAAAAIAAAA=",
           "dtype": "i4"
          },
          "coloraxis": "coloraxis",
          "symbol": "circle"
         },
         "mode": "markers",
         "name": "",
         "scene": "scene",
         "showlegend": false,
         "type": "scatter3d",
         "x": {
          "bdata": "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",
          "dtype": "f8"
         },
         "y": {
          "bdata": "IBsaFiYcIRgXGRgcGxwgHBUWGB4jFh4ZHSIfICQiGh0VGCAbFyIdGxkeGBobIhYRHCMhHR4dFh4cGxsZDhcZIRYiFhYZEh4eGBspFxwfFh4WGhkhFyEeFSAcIxwXFRIbEhkYGBghHxgaFx4eGg4aHh0hHhsTFSIgGiAYEiAcGCAiGB4cGxceDyciGxIgGhYqHB0iLhoZGxUYHhkZHyAVGx4UHRAVHCAiFhoaIR0VGCUXJx0XIhoXFxcfHBkWGxQXGRITIyglGRsZGhQjEhsiGiAfIhQcHxoXFxIaGxwVERYaFRgbGSEaGRcaGSohFSIaIiAYICAXFg8XFB8WHSASHiUYIB8aHB0ZHRwkHR4ZEhQjIx4cIBofGw4bHBwaGx0YHhwXGx8aJh4hGh4fFR0aGhkgHhkfFBcaFyERHRwMHhQWHB8ZFhkaFyAZGxwbHhceHRweHxcgGRIXIB4kHRcYFxIkFB4aFRkiHyAdFxclFiMZEyMiIxwYHBoTFyQjGBsZGh0aHhohHhcfFhMbHRAVHBUUIx4gIBseFyYaFRUZFx8ZHhkVGxoaHhobGBQVFhcXGRsZHhchJBYcIBYeGh8dHRQaISAXIRgZHBMmGRwhGRARFx0nKCAbHiIaGBYWEx8WHR0SHh0aGhYVGBsQFx8aFRwbHhwVIiAcFSMZGRQaGBofFhwaGRoXIBchFhMTLRgZHRcZICEYIBkZHRYYGBIWFhUZFxMUIBoVGBYRFRgcHB4bGR0YHSIUFSAaGBkdHB0iGxYbGxsZFx4YExodHBkbHRobHhwZFhM=",
          "dtype": "i1"
         },
         "z": {
          "bdata": "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",
          "dtype": "f8"
         }
        }
       ],
       "layout": {
        "coloraxis": {
         "colorbar": {
          "title": {
           "text": "cluster"
          }
         },
         "colorscale": [
          [
           0,
           "#0d0887"
          ],
          [
           0.1111111111111111,
           "#46039f"
          ],
          [
           0.2222222222222222,
           "#7201a8"
          ],
          [
           0.3333333333333333,
           "#9c179e"
          ],
          [
           0.4444444444444444,
           "#bd3786"
          ],
          [
           0.5555555555555556,
           "#d8576b"
          ],
          [
           0.6666666666666666,
           "#ed7953"
          ],
          [
           0.7777777777777778,
           "#fb9f3a"
          ],
          [
           0.8888888888888888,
           "#fdca26"
          ],
          [
           1,
           "#f0f921"
          ]
         ]
        },
        "legend": {
         "tracegroupgap": 0
        },
        "margin": {
         "b": 0,
         "l": 0,
         "r": 0,
         "t": 30
        },
        "scene": {
         "domain": {
          "x": [
           0,
           1
          ],
          "y": [
           0,
           1
          ]
         },
         "xaxis": {
          "title": {
           "text": "Total Payment"
          }
         },
         "yaxis": {
          "title": {
           "text": "Rental Frequency"
          }
         },
         "zaxis": {
          "title": {
           "text": "Average Film Length"
          }
         }
        },
        "template": {
         "data": {
          "bar": [
           {
            "error_x": {
             "color": "#2a3f5f"
            },
            "error_y": {
             "color": "#2a3f5f"
            },
            "marker": {
             "line": {
              "color": "#E5ECF6",
              "width": 0.5
             },
             "pattern": {
              "fillmode": "overlay",
              "size": 10,
              "solidity": 0.2
             }
            },
            "type": "bar"
           }
          ],
          "barpolar": [
           {
            "marker": {
             "line": {
              "color": "#E5ECF6",
              "width": 0.5
             },
             "pattern": {
              "fillmode": "overlay",
              "size": 10,
              "solidity": 0.2
             }
            },
            "type": "barpolar"
           }
          ],
          "carpet": [
           {
            "aaxis": {
             "endlinecolor": "#2a3f5f",
             "gridcolor": "white",
             "linecolor": "white",
             "minorgridcolor": "white",
             "startlinecolor": "#2a3f5f"
            },
            "baxis": {
             "endlinecolor": "#2a3f5f",
             "gridcolor": "white",
             "linecolor": "white",
             "minorgridcolor": "white",
             "startlinecolor": "#2a3f5f"
            },
            "type": "carpet"
           }
          ],
          "choropleth": [
           {
            "colorbar": {
             "outlinewidth": 0,
             "ticks": ""
            },
            "type": "choropleth"
           }
          ],
          "contour": [
           {
            "colorbar": {
             "outlinewidth": 0,
             "ticks": ""
            },
            "colorscale": [
             [
              0,
              "#0d0887"
             ],
             [
              0.1111111111111111,
              "#46039f"
             ],
             [
              0.2222222222222222,
              "#7201a8"
             ],
             [
              0.3333333333333333,
              "#9c179e"
             ],
             [
              0.4444444444444444,
              "#bd3786"
             ],
             [
              0.5555555555555556,
              "#d8576b"
             ],
             [
              0.6666666666666666,
              "#ed7953"
             ],
             [
              0.7777777777777778,
              "#fb9f3a"
             ],
             [
              0.8888888888888888,
              "#fdca26"
             ],
             [
              1,
              "#f0f921"
             ]
            ],
            "type": "contour"
           }
          ],
          "contourcarpet": [
           {
            "colorbar": {
             "outlinewidth": 0,
             "ticks": ""
            },
            "type": "contourcarpet"
           }
          ],
          "heatmap": [
           {
            "colorbar": {
             "outlinewidth": 0,
             "ticks": ""
            },
            "colorscale": [
             [
              0,
              "#0d0887"
             ],
             [
              0.1111111111111111,
              "#46039f"
             ],
             [
              0.2222222222222222,
              "#7201a8"
             ],
             [
              0.3333333333333333,
              "#9c179e"
             ],
             [
              0.4444444444444444,
              "#bd3786"
             ],
             [
              0.5555555555555556,
              "#d8576b"
             ],
             [
              0.6666666666666666,
              "#ed7953"
             ],
             [
              0.7777777777777778,
              "#fb9f3a"
             ],
             [
              0.8888888888888888,
              "#fdca26"
             ],
             [
              1,
              "#f0f921"
             ]
            ],
            "type": "heatmap"
           }
          ],
          "histogram": [
           {
            "marker": {
             "pattern": {
              "fillmode": "overlay",
              "size": 10,
              "solidity": 0.2
             }
            },
            "type": "histogram"
           }
          ],
          "histogram2d": [
           {
            "colorbar": {
             "outlinewidth": 0,
             "ticks": ""
            },
            "colorscale": [
             [
              0,
              "#0d0887"
             ],
             [
              0.1111111111111111,
              "#46039f"
             ],
             [
              0.2222222222222222,
              "#7201a8"
             ],
             [
              0.3333333333333333,
              "#9c179e"
             ],
             [
              0.4444444444444444,
              "#bd3786"
             ],
             [
              0.5555555555555556,
              "#d8576b"
             ],
             [
              0.6666666666666666,
              "#ed7953"
             ],
             [
              0.7777777777777778,
              "#fb9f3a"
             ],
             [
              0.8888888888888888,
              "#fdca26"
             ],
             [
              1,
              "#f0f921"
             ]
            ],
            "type": "histogram2d"
           }
          ],
          "histogram2dcontour": [
           {
            "colorbar": {
             "outlinewidth": 0,
             "ticks": ""
            },
            "colorscale": [
             [
              0,
              "#0d0887"
             ],
             [
              0.1111111111111111,
              "#46039f"
             ],
             [
              0.2222222222222222,
              "#7201a8"
             ],
             [
              0.3333333333333333,
              "#9c179e"
             ],
             [
              0.4444444444444444,
              "#bd3786"
             ],
             [
              0.5555555555555556,
              "#d8576b"
             ],
             [
              0.6666666666666666,
              "#ed7953"
             ],
             [
              0.7777777777777778,
              "#fb9f3a"
             ],
             [
              0.8888888888888888,
              "#fdca26"
             ],
             [
              1,
              "#f0f921"
             ]
            ],
            "type": "histogram2dcontour"
           }
          ],
          "mesh3d": [
           {
            "colorbar": {
             "outlinewidth": 0,
             "ticks": ""
            },
            "type": "mesh3d"
           }
          ],
          "parcoords": [
           {
            "line": {
             "colorbar": {
              "outlinewidth": 0,
              "ticks": ""
             }
            },
            "type": "parcoords"
           }
          ],
          "pie": [
           {
            "automargin": true,
            "type": "pie"
           }
          ],
          "scatter": [
           {
            "fillpattern": {
             "fillmode": "overlay",
             "size": 10,
             "solidity": 0.2
            },
            "type": "scatter"
           }
          ],
          "scatter3d": [
           {
            "line": {
             "colorbar": {
              "outlinewidth": 0,
              "ticks": ""
             }
            },
            "marker": {
             "colorbar": {
              "outlinewidth": 0,
              "ticks": ""
             }
            },
            "type": "scatter3d"
           }
          ],
          "scattercarpet": [
           {
            "marker": {
             "colorbar": {
              "outlinewidth": 0,
              "ticks": ""
             }
            },
            "type": "scattercarpet"
           }
          ],
          "scattergeo": [
           {
            "marker": {
             "colorbar": {
              "outlinewidth": 0,
              "ticks": ""
             }
            },
            "type": "scattergeo"
           }
          ],
          "scattergl": [
           {
            "marker": {
             "colorbar": {
              "outlinewidth": 0,
              "ticks": ""
             }
            },
            "type": "scattergl"
           }
          ],
          "scattermap": [
           {
            "marker": {
             "colorbar": {
              "outlinewidth": 0,
              "ticks": ""
             }
            },
            "type": "scattermap"
           }
          ],
          "scattermapbox": [
           {
            "marker": {
             "colorbar": {
              "outlinewidth": 0,
              "ticks": ""
             }
            },
            "type": "scattermapbox"
           }
          ],
          "scatterpolar": [
           {
            "marker": {
             "colorbar": {
              "outlinewidth": 0,
              "ticks": ""
             }
            },
            "type": "scatterpolar"
           }
          ],
          "scatterpolargl": [
           {
            "marker": {
             "colorbar": {
              "outlinewidth": 0,
              "ticks": ""
             }
            },
            "type": "scatterpolargl"
           }
          ],
          "scatterternary": [
           {
            "marker": {
             "colorbar": {
              "outlinewidth": 0,
              "ticks": ""
             }
            },
            "type": "scatterternary"
           }
          ],
          "surface": [
           {
            "colorbar": {
             "outlinewidth": 0,
             "ticks": ""
            },
            "colorscale": [
             [
              0,
              "#0d0887"
             ],
             [
              0.1111111111111111,
              "#46039f"
             ],
             [
              0.2222222222222222,
              "#7201a8"
             ],
             [
              0.3333333333333333,
              "#9c179e"
             ],
             [
              0.4444444444444444,
              "#bd3786"
             ],
             [
              0.5555555555555556,
              "#d8576b"
             ],
             [
              0.6666666666666666,
              "#ed7953"
             ],
             [
              0.7777777777777778,
              "#fb9f3a"
             ],
             [
              0.8888888888888888,
              "#fdca26"
             ],
             [
              1,
              "#f0f921"
             ]
            ],
            "type": "surface"
           }
          ],
          "table": [
           {
            "cells": {
             "fill": {
              "color": "#EBF0F8"
             },
             "line": {
              "color": "white"
             }
            },
            "header": {
             "fill": {
              "color": "#C8D4E3"
             },
             "line": {
              "color": "white"
             }
            },
            "type": "table"
           }
          ]
         },
         "layout": {
          "annotationdefaults": {
           "arrowcolor": "#2a3f5f",
           "arrowhead": 0,
           "arrowwidth": 1
          },
          "autotypenumbers": "strict",
          "coloraxis": {
           "colorbar": {
            "outlinewidth": 0,
            "ticks": ""
           }
          },
          "colorscale": {
           "diverging": [
            [
             0,
             "#8e0152"
            ],
            [
             0.1,
             "#c51b7d"
            ],
            [
             0.2,
             "#de77ae"
            ],
            [
             0.3,
             "#f1b6da"
            ],
            [
             0.4,
             "#fde0ef"
            ],
            [
             0.5,
             "#f7f7f7"
            ],
            [
             0.6,
             "#e6f5d0"
            ],
            [
             0.7,
             "#b8e186"
            ],
            [
             0.8,
             "#7fbc41"
            ],
            [
             0.9,
             "#4d9221"
            ],
            [
             1,
             "#276419"
            ]
           ],
           "sequential": [
            [
             0,
             "#0d0887"
            ],
            [
             0.1111111111111111,
             "#46039f"
            ],
            [
             0.2222222222222222,
             "#7201a8"
            ],
            [
             0.3333333333333333,
             "#9c179e"
            ],
            [
             0.4444444444444444,
             "#bd3786"
            ],
            [
             0.5555555555555556,
             "#d8576b"
            ],
            [
             0.6666666666666666,
             "#ed7953"
            ],
            [
             0.7777777777777778,
             "#fb9f3a"
            ],
            [
             0.8888888888888888,
             "#fdca26"
            ],
            [
             1,
             "#f0f921"
            ]
           ],
           "sequentialminus": [
            [
             0,
             "#0d0887"
            ],
            [
             0.1111111111111111,
             "#46039f"
            ],
            [
             0.2222222222222222,
             "#7201a8"
            ],
            [
             0.3333333333333333,
             "#9c179e"
            ],
            [
             0.4444444444444444,
             "#bd3786"
            ],
            [
             0.5555555555555556,
             "#d8576b"
            ],
            [
             0.6666666666666666,
             "#ed7953"
            ],
            [
             0.7777777777777778,
             "#fb9f3a"
            ],
            [
             0.8888888888888888,
             "#fdca26"
            ],
            [
             1,
             "#f0f921"
            ]
           ]
          },
          "colorway": [
           "#636efa",
           "#EF553B",
           "#00cc96",
           "#ab63fa",
           "#FFA15A",
           "#19d3f3",
           "#FF6692",
           "#B6E880",
           "#FF97FF",
           "#FECB52"
          ],
          "font": {
           "color": "#2a3f5f"
          },
          "geo": {
           "bgcolor": "white",
           "lakecolor": "white",
           "landcolor": "#E5ECF6",
           "showlakes": true,
           "showland": true,
           "subunitcolor": "white"
          },
          "hoverlabel": {
           "align": "left"
          },
          "hovermode": "closest",
          "mapbox": {
           "style": "light"
          },
          "paper_bgcolor": "white",
          "plot_bgcolor": "#E5ECF6",
          "polar": {
           "angularaxis": {
            "gridcolor": "white",
            "linecolor": "white",
            "ticks": ""
           },
           "bgcolor": "#E5ECF6",
           "radialaxis": {
            "gridcolor": "white",
            "linecolor": "white",
            "ticks": ""
           }
          },
          "scene": {
           "xaxis": {
            "backgroundcolor": "#E5ECF6",
            "gridcolor": "white",
            "gridwidth": 2,
            "linecolor": "white",
            "showbackground": true,
            "ticks": "",
            "zerolinecolor": "white"
           },
           "yaxis": {
            "backgroundcolor": "#E5ECF6",
            "gridcolor": "white",
            "gridwidth": 2,
            "linecolor": "white",
            "showbackground": true,
            "ticks": "",
            "zerolinecolor": "white"
           },
           "zaxis": {
            "backgroundcolor": "#E5ECF6",
            "gridcolor": "white",
            "gridwidth": 2,
            "linecolor": "white",
            "showbackground": true,
            "ticks": "",
            "zerolinecolor": "white"
           }
          },
          "shapedefaults": {
           "line": {
            "color": "#2a3f5f"
           }
          },
          "ternary": {
           "aaxis": {
            "gridcolor": "white",
            "linecolor": "white",
            "ticks": ""
           },
           "baxis": {
            "gridcolor": "white",
            "linecolor": "white",
            "ticks": ""
           },
           "bgcolor": "#E5ECF6",
           "caxis": {
            "gridcolor": "white",
            "linecolor": "white",
            "ticks": ""
           }
          },
          "title": {
           "x": 0.05
          },
          "xaxis": {
           "automargin": true,
           "gridcolor": "white",
           "linecolor": "white",
           "ticks": "",
           "title": {
            "standoff": 15
           },
           "zerolinecolor": "white",
           "zerolinewidth": 2
          },
          "yaxis": {
           "automargin": true,
           "gridcolor": "white",
           "linecolor": "white",
           "ticks": "",
           "title": {
            "standoff": 15
           },
           "zerolinecolor": "white",
           "zerolinewidth": 2
          }
         }
        },
        "title": {
         "text": "3D Scatter Plot of Customer Clusters"
        }
       }
      }
     },
     "metadata": {},
     "output_type": "display_data"
    }
   ],
   "source": [
    "# --- Biểu đồ 4: 3D Scatter Plot ---\n",
    "def visualize3DKmeans(df, columns, hover_data, cluster):\n",
    "    fig = px.scatter_3d(\n",
    "        df,\n",
    "        x=columns[0],\n",
    "        y=columns[1],\n",
    "        z=columns[3],\n",
    "        color='cluster',\n",
    "        hover_data=hover_data,\n",
    "        category_orders={\"cluster\": range(0, cluster)},\n",
    "        labels={\n",
    "            columns[0]: \"Total Payment\",\n",
    "            columns[1]: \"Rental Frequency\",\n",
    "            columns[3]: \"Average Film Length\"\n",
    "        },\n",
    "        title=\"3D Scatter Plot of Customer Clusters\"\n",
    "    )\n",
    "    fig.update_layout(margin=dict(l=0, r=0, b=0, t=30))\n",
    "    fig.show()\n",
    "\n",
    "# Dữ liệu để hiển thị khi hover\n",
    "hover_data = ['CustomerId', 'FirstName', 'LastName']\n",
    "visualize3DKmeans(df, cluster_columns, hover_data, cluster)"
   ]
  },
  {
   "cell_type": "code",
   "execution_count": 44,
   "metadata": {},
   "outputs": [
    {
     "name": "stdout",
     "output_type": "stream",
     "text": [
      "\n",
      "Cluster 2: 218 Customers\n",
      "\n",
      "    CustomerId  TotalPayment  RentalFrequency FavoriteRating  cluster\n",
      "3            4         63.78               22              G        2\n",
      "5            6         55.72               28          PG-13        2\n",
      "8            9         68.77               23              G        2\n",
      "9           10         64.75               25              G        2\n",
      "11          12         67.72               28              G        2\n",
      "16          17         68.79               21              G        2\n",
      "18          19         81.76               24             PG        2\n",
      "23          24         70.75               25              G        2\n",
      "30          31         77.74               26             PG        2\n",
      "32          33         66.79               21          PG-13        2\n",
      "--------------------------------------------------\n"
     ]
    },
    {
     "data": {
      "application/vnd.microsoft.datawrangler.viewer.v0+json": {
       "columns": [
        {
         "name": "index",
         "rawType": "int64",
         "type": "integer"
        },
        {
         "name": "CustomerId",
         "rawType": "int64",
         "type": "integer"
        },
        {
         "name": "FirstName",
         "rawType": "object",
         "type": "string"
        },
        {
         "name": "LastName",
         "rawType": "object",
         "type": "string"
        },
        {
         "name": "TotalPayment",
         "rawType": "float64",
         "type": "float"
        },
        {
         "name": "RentalFrequency",
         "rawType": "int64",
         "type": "integer"
        },
        {
         "name": "FavoriteRating",
         "rawType": "object",
         "type": "string"
        },
        {
         "name": "AverageFilmLength",
         "rawType": "float64",
         "type": "float"
        },
        {
         "name": "FavoriteRatingNumber",
         "rawType": "int64",
         "type": "integer"
        },
        {
         "name": "cluster",
         "rawType": "int32",
         "type": "integer"
        }
       ],
       "conversionMethod": "pd.DataFrame",
       "ref": "169f3fb6-f4fc-4b3e-b212-321675e57393",
       "rows": [
        [
         "3",
         "4",
         "BARBARA",
         "JONES",
         "63.78",
         "22",
         "G",
         "117.27272727272727",
         "1",
         "2"
        ],
        [
         "5",
         "6",
         "JENNIFER",
         "DAVIS",
         "55.72",
         "28",
         "PG-13",
         "106.17857142857143",
         "3",
         "2"
        ],
        [
         "8",
         "9",
         "MARGARET",
         "MOORE",
         "68.77000000000001",
         "23",
         "G",
         "116.52173913043478",
         "1",
         "2"
        ],
        [
         "9",
         "10",
         "DOROTHY",
         "TAYLOR",
         "64.75",
         "25",
         "G",
         "112.52",
         "1",
         "2"
        ],
        [
         "11",
         "12",
         "NANCY",
         "THOMAS",
         "67.72",
         "28",
         "G",
         "108.85714285714286",
         "1",
         "2"
        ],
        [
         "16",
         "17",
         "DONNA",
         "THOMPSON",
         "68.79",
         "21",
         "G",
         "129.04761904761904",
         "1",
         "2"
        ],
        [
         "18",
         "19",
         "RUTH",
         "MARTINEZ",
         "81.76",
         "24",
         "PG",
         "111.20833333333333",
         "2",
         "2"
        ],
        [
         "23",
         "24",
         "KIMBERLY",
         "LEE",
         "70.75",
         "25",
         "G",
         "118.6",
         "1",
         "2"
        ],
        [
         "30",
         "31",
         "BRENDA",
         "WRIGHT",
         "77.74000000000001",
         "26",
         "PG",
         "118.92307692307692",
         "2",
         "2"
        ],
        [
         "32",
         "33",
         "ANNA",
         "HILL",
         "66.79",
         "21",
         "PG-13",
         "120.0952380952381",
         "3",
         "2"
        ],
        [
         "40",
         "41",
         "STEPHANIE",
         "MITCHELL",
         "84.75",
         "25",
         "PG-13",
         "120.32",
         "3",
         "2"
        ],
        [
         "42",
         "43",
         "CHRISTINE",
         "ROBERTS",
         "87.76",
         "24",
         "PG",
         "110.04166666666667",
         "2",
         "2"
        ],
        [
         "47",
         "48",
         "ANN",
         "EVANS",
         "46.830000000000005",
         "17",
         "PG-13",
         "129.52941176470588",
         "3",
         "2"
        ],
        [
         "51",
         "52",
         "JULIE",
         "SANCHEZ",
         "72.71000000000001",
         "29",
         "PG",
         "131.31034482758622",
         "2",
         "2"
        ],
        [
         "54",
         "55",
         "DORIS",
         "REED",
         "83.78",
         "22",
         "G",
         "125.27272727272727",
         "1",
         "2"
        ],
        [
         "56",
         "57",
         "EVELYN",
         "MORGAN",
         "75.72",
         "28",
         "PG",
         "110.85714285714286",
         "2",
         "2"
        ],
        [
         "57",
         "58",
         "JEAN",
         "BELL",
         "82.73",
         "27",
         "G",
         "107.66666666666667",
         "1",
         "2"
        ],
        [
         "58",
         "59",
         "CHERYL",
         "MURPHY",
         "80.73",
         "27",
         "PG",
         "111.62962962962963",
         "2",
         "2"
        ],
        [
         "60",
         "61",
         "KATHERINE",
         "RIVERA",
         "29.860000000000003",
         "14",
         "PG-13",
         "115.35714285714286",
         "3",
         "2"
        ],
        [
         "66",
         "67",
         "KELLY",
         "TORRES",
         "71.78",
         "22",
         "PG",
         "108.95454545454545",
         "2",
         "2"
        ],
        [
         "67",
         "68",
         "NICOLE",
         "PETERSON",
         "65.78",
         "22",
         "PG",
         "103.22727272727273",
         "2",
         "2"
        ],
        [
         "69",
         "70",
         "CHRISTINA",
         "RAMIREZ",
         "59.82",
         "18",
         "PG",
         "121.0",
         "2",
         "2"
        ],
        [
         "73",
         "74",
         "DENISE",
         "KELLY",
         "64.73",
         "27",
         "G",
         "115.14814814814815",
         "1",
         "2"
        ],
        [
         "76",
         "77",
         "JANE",
         "BENNETT",
         "65.72",
         "28",
         "PG",
         "111.39285714285714",
         "2",
         "2"
        ],
        [
         "78",
         "79",
         "RACHEL",
         "BARNES",
         "67.78",
         "22",
         "PG",
         "115.5909090909091",
         "2",
         "2"
        ],
        [
         "81",
         "82",
         "KATHRYN",
         "COLEMAN",
         "71.74000000000001",
         "26",
         "PG-13",
         "103.88461538461539",
         "3",
         "2"
        ],
        [
         "82",
         "83",
         "LOUISE",
         "JENKINS",
         "72.75",
         "25",
         "PG-13",
         "114.64",
         "3",
         "2"
        ],
        [
         "84",
         "85",
         "ANNE",
         "POWELL",
         "64.77000000000001",
         "23",
         "G",
         "108.26086956521739",
         "1",
         "2"
        ],
        [
         "87",
         "88",
         "BONNIE",
         "HUGHES",
         "54.790000000000006",
         "21",
         "G",
         "106.71428571428571",
         "1",
         "2"
        ],
        [
         "89",
         "90",
         "RUBY",
         "WASHINGTON",
         "75.72",
         "28",
         "PG-13",
         "112.32142857142857",
         "3",
         "2"
        ],
        [
         "97",
         "98",
         "LILLIAN",
         "GRIFFIN",
         "72.75",
         "25",
         "PG-13",
         "118.4",
         "3",
         "2"
        ],
        [
         "100",
         "101",
         "PEGGY",
         "MYERS",
         "63.760000000000005",
         "24",
         "PG",
         "107.91666666666667",
         "2",
         "2"
        ],
        [
         "103",
         "104",
         "RITA",
         "GRAHAM",
         "55.760000000000005",
         "24",
         "G",
         "122.04166666666667",
         "1",
         "2"
        ],
        [
         "105",
         "106",
         "CONNIE",
         "WALLACE",
         "70.77000000000001",
         "23",
         "G",
         "121.52173913043478",
         "1",
         "2"
        ],
        [
         "108",
         "109",
         "EDNA",
         "WEST",
         "71.74000000000001",
         "26",
         "PG-13",
         "109.5",
         "3",
         "2"
        ],
        [
         "110",
         "111",
         "CARMEN",
         "OWENS",
         "67.74000000000001",
         "26",
         "G",
         "115.23076923076923",
         "1",
         "2"
        ],
        [
         "112",
         "113",
         "CINDY",
         "FISHER",
         "76.71000000000001",
         "29",
         "PG",
         "125.37931034482759",
         "2",
         "2"
        ],
        [
         "114",
         "115",
         "WENDY",
         "HARRISON",
         "67.7",
         "30",
         "PG",
         "119.03333333333333",
         "2",
         "2"
        ],
        [
         "115",
         "116",
         "VICTORIA",
         "GIBSON",
         "80.73",
         "27",
         "PG-13",
         "99.44444444444444",
         "3",
         "2"
        ],
        [
         "117",
         "118",
         "KIM",
         "CRUZ",
         "60.790000000000006",
         "21",
         "PG-13",
         "106.47619047619048",
         "3",
         "2"
        ],
        [
         "120",
         "121",
         "JOSEPHINE",
         "GOMEZ",
         "69.74000000000001",
         "26",
         "PG",
         "103.15384615384616",
         "2",
         "2"
        ],
        [
         "126",
         "127",
         "ELAINE",
         "STEVENS",
         "71.76",
         "24",
         "G",
         "124.20833333333333",
         "1",
         "2"
        ],
        [
         "129",
         "130",
         "CHARLOTTE",
         "HUNTER",
         "71.76",
         "24",
         "PG-13",
         "117.83333333333333",
         "3",
         "2"
        ],
        [
         "132",
         "133",
         "PAULINE",
         "HENRY",
         "72.73",
         "27",
         "PG-13",
         "105.81481481481481",
         "3",
         "2"
        ],
        [
         "135",
         "136",
         "ANITA",
         "MORALES",
         "40.85",
         "15",
         "PG-13",
         "133.26666666666668",
         "3",
         "2"
        ],
        [
         "138",
         "139",
         "AMBER",
         "DIXON",
         "76.73",
         "27",
         "G",
         "120.96296296296296",
         "1",
         "2"
        ],
        [
         "142",
         "143",
         "LESLIE",
         "GORDON",
         "69.78",
         "22",
         "PG-13",
         "104.36363636363636",
         "3",
         "2"
        ],
        [
         "144",
         "145",
         "LUCILLE",
         "HOLMES",
         "75.72",
         "28",
         "PG",
         "111.57142857142857",
         "2",
         "2"
        ],
        [
         "148",
         "149",
         "VALERIE",
         "BLACK",
         "75.74000000000001",
         "26",
         "G",
         "118.26923076923077",
         "1",
         "2"
        ],
        [
         "150",
         "151",
         "MEGAN",
         "PALMER",
         "70.73",
         "27",
         "G",
         "101.18518518518519",
         "1",
         "2"
        ]
       ],
       "shape": {
        "columns": 9,
        "rows": 218
       }
      },
      "text/html": [
       "<div>\n",
       "<style scoped>\n",
       "    .dataframe tbody tr th:only-of-type {\n",
       "        vertical-align: middle;\n",
       "    }\n",
       "\n",
       "    .dataframe tbody tr th {\n",
       "        vertical-align: top;\n",
       "    }\n",
       "\n",
       "    .dataframe thead th {\n",
       "        text-align: right;\n",
       "    }\n",
       "</style>\n",
       "<table border=\"1\" class=\"dataframe\">\n",
       "  <thead>\n",
       "    <tr style=\"text-align: right;\">\n",
       "      <th></th>\n",
       "      <th>CustomerId</th>\n",
       "      <th>FirstName</th>\n",
       "      <th>LastName</th>\n",
       "      <th>TotalPayment</th>\n",
       "      <th>RentalFrequency</th>\n",
       "      <th>FavoriteRating</th>\n",
       "      <th>AverageFilmLength</th>\n",
       "      <th>FavoriteRatingNumber</th>\n",
       "      <th>cluster</th>\n",
       "    </tr>\n",
       "  </thead>\n",
       "  <tbody>\n",
       "    <tr>\n",
       "      <th>3</th>\n",
       "      <td>4</td>\n",
       "      <td>BARBARA</td>\n",
       "      <td>JONES</td>\n",
       "      <td>63.78</td>\n",
       "      <td>22</td>\n",
       "      <td>G</td>\n",
       "      <td>117.272727</td>\n",
       "      <td>1</td>\n",
       "      <td>2</td>\n",
       "    </tr>\n",
       "    <tr>\n",
       "      <th>5</th>\n",
       "      <td>6</td>\n",
       "      <td>JENNIFER</td>\n",
       "      <td>DAVIS</td>\n",
       "      <td>55.72</td>\n",
       "      <td>28</td>\n",
       "      <td>PG-13</td>\n",
       "      <td>106.178571</td>\n",
       "      <td>3</td>\n",
       "      <td>2</td>\n",
       "    </tr>\n",
       "    <tr>\n",
       "      <th>8</th>\n",
       "      <td>9</td>\n",
       "      <td>MARGARET</td>\n",
       "      <td>MOORE</td>\n",
       "      <td>68.77</td>\n",
       "      <td>23</td>\n",
       "      <td>G</td>\n",
       "      <td>116.521739</td>\n",
       "      <td>1</td>\n",
       "      <td>2</td>\n",
       "    </tr>\n",
       "    <tr>\n",
       "      <th>9</th>\n",
       "      <td>10</td>\n",
       "      <td>DOROTHY</td>\n",
       "      <td>TAYLOR</td>\n",
       "      <td>64.75</td>\n",
       "      <td>25</td>\n",
       "      <td>G</td>\n",
       "      <td>112.520000</td>\n",
       "      <td>1</td>\n",
       "      <td>2</td>\n",
       "    </tr>\n",
       "    <tr>\n",
       "      <th>11</th>\n",
       "      <td>12</td>\n",
       "      <td>NANCY</td>\n",
       "      <td>THOMAS</td>\n",
       "      <td>67.72</td>\n",
       "      <td>28</td>\n",
       "      <td>G</td>\n",
       "      <td>108.857143</td>\n",
       "      <td>1</td>\n",
       "      <td>2</td>\n",
       "    </tr>\n",
       "    <tr>\n",
       "      <th>...</th>\n",
       "      <td>...</td>\n",
       "      <td>...</td>\n",
       "      <td>...</td>\n",
       "      <td>...</td>\n",
       "      <td>...</td>\n",
       "      <td>...</td>\n",
       "      <td>...</td>\n",
       "      <td>...</td>\n",
       "      <td>...</td>\n",
       "    </tr>\n",
       "    <tr>\n",
       "      <th>589</th>\n",
       "      <td>590</td>\n",
       "      <td>SETH</td>\n",
       "      <td>HANNON</td>\n",
       "      <td>82.75</td>\n",
       "      <td>25</td>\n",
       "      <td>PG</td>\n",
       "      <td>115.080000</td>\n",
       "      <td>2</td>\n",
       "      <td>2</td>\n",
       "    </tr>\n",
       "    <tr>\n",
       "      <th>591</th>\n",
       "      <td>592</td>\n",
       "      <td>TERRANCE</td>\n",
       "      <td>ROUSH</td>\n",
       "      <td>74.71</td>\n",
       "      <td>29</td>\n",
       "      <td>PG</td>\n",
       "      <td>106.896552</td>\n",
       "      <td>2</td>\n",
       "      <td>2</td>\n",
       "    </tr>\n",
       "    <tr>\n",
       "      <th>592</th>\n",
       "      <td>593</td>\n",
       "      <td>RENE</td>\n",
       "      <td>MCALISTER</td>\n",
       "      <td>71.74</td>\n",
       "      <td>26</td>\n",
       "      <td>G</td>\n",
       "      <td>101.653846</td>\n",
       "      <td>1</td>\n",
       "      <td>2</td>\n",
       "    </tr>\n",
       "    <tr>\n",
       "      <th>597</th>\n",
       "      <td>598</td>\n",
       "      <td>WADE</td>\n",
       "      <td>DELVALLE</td>\n",
       "      <td>59.78</td>\n",
       "      <td>22</td>\n",
       "      <td>G</td>\n",
       "      <td>127.454545</td>\n",
       "      <td>1</td>\n",
       "      <td>2</td>\n",
       "    </tr>\n",
       "    <tr>\n",
       "      <th>598</th>\n",
       "      <td>599</td>\n",
       "      <td>AUSTIN</td>\n",
       "      <td>CINTRON</td>\n",
       "      <td>60.81</td>\n",
       "      <td>19</td>\n",
       "      <td>PG</td>\n",
       "      <td>103.210526</td>\n",
       "      <td>2</td>\n",
       "      <td>2</td>\n",
       "    </tr>\n",
       "  </tbody>\n",
       "</table>\n",
       "<p>218 rows × 9 columns</p>\n",
       "</div>"
      ],
      "text/plain": [
       "     CustomerId FirstName   LastName  TotalPayment  RentalFrequency  \\\n",
       "3             4   BARBARA      JONES         63.78               22   \n",
       "5             6  JENNIFER      DAVIS         55.72               28   \n",
       "8             9  MARGARET      MOORE         68.77               23   \n",
       "9            10   DOROTHY     TAYLOR         64.75               25   \n",
       "11           12     NANCY     THOMAS         67.72               28   \n",
       "..          ...       ...        ...           ...              ...   \n",
       "589         590      SETH     HANNON         82.75               25   \n",
       "591         592  TERRANCE      ROUSH         74.71               29   \n",
       "592         593      RENE  MCALISTER         71.74               26   \n",
       "597         598      WADE   DELVALLE         59.78               22   \n",
       "598         599    AUSTIN    CINTRON         60.81               19   \n",
       "\n",
       "    FavoriteRating  AverageFilmLength  FavoriteRatingNumber  cluster  \n",
       "3                G         117.272727                     1        2  \n",
       "5            PG-13         106.178571                     3        2  \n",
       "8                G         116.521739                     1        2  \n",
       "9                G         112.520000                     1        2  \n",
       "11               G         108.857143                     1        2  \n",
       "..             ...                ...                   ...      ...  \n",
       "589             PG         115.080000                     2        2  \n",
       "591             PG         106.896552                     2        2  \n",
       "592              G         101.653846                     1        2  \n",
       "597              G         127.454545                     1        2  \n",
       "598             PG         103.210526                     2        2  \n",
       "\n",
       "[218 rows x 9 columns]"
      ]
     },
     "execution_count": 44,
     "metadata": {},
     "output_type": "execute_result"
    }
   ],
   "source": [
    "# Hàm lấy dữ liệu theo cụm\n",
    "def get_customer_by_clusters(df, k):\n",
    "    if k not in df[\"cluster\"].unique():\n",
    "        print(f\"Cluster {k} không tồn tại trong dữ liệu.\")\n",
    "        return None\n",
    "    cluster_data = df[df[\"cluster\"] == k]\n",
    "    print(f\"\\nCluster {k}: {len(cluster_data)} Customers\\n\")\n",
    "    print(cluster_data[['CustomerId', 'TotalPayment', 'RentalFrequency', 'FavoriteRating', 'cluster']].head(10))\n",
    "    print(\"-\" * 50)\n",
    "    return cluster_data\n",
    "\n",
    "# Xem dữ liệu của một cụm cụ thể\n",
    "get_customer_by_clusters(df, 2)"
   ]
  }
 ],
 "metadata": {
  "kernelspec": {
   "display_name": ".venv",
   "language": "python",
   "name": "python3"
  },
  "language_info": {
   "codemirror_mode": {
    "name": "ipython",
    "version": 3
   },
   "file_extension": ".py",
   "mimetype": "text/x-python",
   "name": "python",
   "nbconvert_exporter": "python",
   "pygments_lexer": "ipython3",
   "version": "3.13.1"
  }
 },
 "nbformat": 4,
 "nbformat_minor": 2
}
